{
 "cells": [
  {
   "cell_type": "markdown",
   "metadata": {},
   "source": [
    "# Hypothesis Testing - Guided Practice"
   ]
  },
  {
   "cell_type": "markdown",
   "metadata": {},
   "source": [
    "- ds-flex \n",
    "- 10/27/21"
   ]
  },
  {
   "cell_type": "markdown",
   "metadata": {},
   "source": [
    "# 📚Hypothesis Testing Steps"
   ]
  },
  {
   "cell_type": "markdown",
   "metadata": {},
   "source": [
    "<img src=\"https://raw.githubusercontent.com/learn-co-curriculum/dsc-experimental-design/master/images/new_the-scientific-method.png\" width=50%>"
   ]
  },
  {
   "cell_type": "markdown",
   "metadata": {},
   "source": [
    "## Overview"
   ]
  },
  {
   "cell_type": "markdown",
   "metadata": {},
   "source": [
    "1. State the null hypothesis ($H_0$) and the alternative hypothesis ($H_A$ or $H_1$)\n",
    "\n",
    "\n",
    "2. Determine the correct test to perform.\n",
    "    - What test is appropriate for your hypothesis?\n",
    "    - What value should we use for $\\alpha$? (e.g.: .05, .01,.001 ?)\n",
    "    \n",
    "    \n",
    "3. Prepare the data and perform the selected test. \n",
    "\n",
    "4. Interpret the resulting p-value (reject or fail to reject the null hypothesis) \n",
    "\n",
    "5. Perform posthoc tests (if necessary)"
   ]
  },
  {
   "cell_type": "markdown",
   "metadata": {},
   "source": [
    "### STEP 1: State Your Hypothesis & Null Hypothesis "
   ]
  },
  {
   "cell_type": "markdown",
   "metadata": {},
   "source": [
    "- **Before selecting the correct hypothesis test, you must first officially state your null hypothesis ($H_0$) and alternative hypothesis ($H_A$ or $H_1$)**\n",
    "\n",
    "\n",
    "\n",
    "- **Before stating your hypotheses, ask yourself:**\n",
    "    1. What question am I attempting to answer?\n",
    "    2. What metric/value am I measuring to answer this question?\n",
    "    3. Do I expect the groups to be different in a specific way? (i.e. one group greater than the other).\n",
    "        - Or do I just think they'll be different, but don't know how?\n"
   ]
  },
  {
   "cell_type": "markdown",
   "metadata": {},
   "source": [
    "### STEP 2: Determine the correct test for the data/hypothesis\n",
    "\n",
    "<!-- based on data type and # of samples/groups -->"
   ]
  },
  {
   "cell_type": "markdown",
   "metadata": {},
   "source": [
    "#### Q1: What type of data am I measuring? Is it numeric or categorical?\n",
    "\n",
    "\n",
    "#### Q2: How many groups/samples am I comparing?\n",
    "- One group vs a known value?\n",
    "- Two groups?\n",
    "- More than two groups?\n",
    "\n",
    "\n",
    "#### Using the answers to the above 2 questions: select the type of test from this table.\n",
    "\n",
    "|*What type of comparison?* | Numeric Data | Categorical Data|\n",
    "| --- | --- | --- |\n",
    "|**1 Sample vs Known Quantity/Target**|1 Sample T-Test| Binomial Test|\n",
    "|**2 Samples** | 2 Sample T-Test| Chi-Square|\n",
    "|**More than 2**| ANOVA and/or Tukey | Chi Square|\n",
    "\n",
    "\n",
    "#### What probability will we use as our significance cutoff?\n",
    "\n",
    "- Set your $\\alpha$ level (typically $\\alpha$ =.05)\n",
    "    - How rare should the value be before we consider it to be an outlier/statistically significantly different?\n",
    "\n",
    "<img src=\"images/normal_sd_new.png\" width=\"500\">\n"
   ]
  },
  {
   "cell_type": "markdown",
   "metadata": {},
   "source": [
    "### STEP 3: Perform the test"
   ]
  },
  {
   "cell_type": "markdown",
   "metadata": {},
   "source": [
    "#### Hypothesis Testing Functions\n",
    "\n",
    "```python\n",
    "from scipy import stats\n",
    "```\n",
    "\n",
    "| Hypothesis test|Scipy Function | \n",
    " | --- | --- |\n",
    " | **1-sample t-test** |`stats.ttest_1samp()`|\n",
    " | **2-sample t-test** |`stats.ttest_ind()` | \n",
    " | **One-Way ANOVA** | `stats.f_oneway()` | \n",
    " | **Binomial test** |`stats.binom_test()` |\n",
    " | **Chi-Square test** | `stats.chi2_contingency()`|\n",
    " \n",
    " \n",
    "\n",
    "- **Perform the test to get your test-statistic and the associated p-value.**"
   ]
  },
  {
   "cell_type": "markdown",
   "metadata": {},
   "source": [
    "### STEP 4: Interpret the test result and perform any post-hoc test"
   ]
  },
  {
   "cell_type": "markdown",
   "metadata": {},
   "source": [
    "\n",
    "\n",
    "#### Interpret your p-value compared to $\\alpha$\n",
    "\n",
    "\n",
    "- **If p > $\\alpha$:**:\n",
    "    - We fail to reject the null hypothesis.\n",
    "        - The observed difference likely occurred due to random chance, not do to the effect we were analyzing.\n",
    "        - We have essentially disproved our hypothesis.\n",
    "    - The result is not significant.\n",
    "    \n",
    "    \n",
    "- **If p is < $\\alpha$:**\n",
    "    - We reject the null hypothesis. \n",
    "        - The observed difference was most likely NOT due to random chance.\n",
    "        - We have \"supported\" our hypothesis. (we NEVER \"prove\" our hypothesis)\n",
    "    - The result is significant.\n",
    "\n",
    "\n",
    "<img src=\"https://imgs.xkcd.com/comics/p_values.png\">\n",
    "\n",
    "#### Next Steps \n",
    "- **If we did not have significant results:**\n",
    "    - We are done! Write up the final answer. \n",
    "    \n",
    "- **If we had significant results:**\n",
    "\n",
    "    - If there are 2 groups:\n",
    "        - Use a visualization to confirm which group had the larger/smaller value. (e.g. a barplot).\n",
    "        - Calculate effect size (e.g. Cohen's $d$)\n",
    "        - Write up the final answer.\n",
    "\n",
    "    - If there are >2 groups:\n",
    "        - Run a pairwise multiple-comparison test (e.g. Tukey's test) to determine which groups were different.\n",
    "            - [Tukey pairwise comparison test](https://www.statsmodels.org/stable/generated/statsmodels.stats.multicomp.pairwise_tukeyhsd.html) (`statsmodels.stats.multicomp.pairwise_tukeyhsd`)\n",
    "\n",
    "\n",
    "- Report statistical power (optional)\n",
    "\n",
    "#### Post-Hoc Functions:\n",
    "\n",
    "| Post-Hoc Tests/Calculatons|Function|\n",
    "|--- | --- |\n",
    "|**Tukey's Pairwise Comparisons** | `statsmodels.stats.multicomp.pairwise_tukeyhsd`|\n",
    "|**Effect Size**| `Cohens_d`|\n",
    "|**Statistical Power** | `statsmodels.stats.power`:<br>  `TTestIndPower` , `TTestPower`"
   ]
  },
  {
   "cell_type": "markdown",
   "metadata": {},
   "source": [
    "## Resources "
   ]
  },
  {
   "cell_type": "markdown",
   "metadata": {},
   "source": [
    "- See the included [Hypothesis Testing Slide Deck](https://github.com/flatiron-school/ds-flex-hypothesis-testing-guided-practice/blob/main/resources/Hypothesis%20Testing%20with%20SciPy_codeacademy%20slides.pdf) for a recap of the process.\n",
    "\n",
    "- See the included [Hypothesis Testing with Scipy Cheatsheet](https://github.com/flatiron-school/ds-flex-hypothesis-testing-guided-practice/blob/main/resources/hypothesis-testing-with-scipy%20cheatsheet.pdf)\n",
    "\n",
    "- Both are also included in the `resources` folder, as well"
   ]
  },
  {
   "cell_type": "markdown",
   "metadata": {},
   "source": [
    "# 🕹Activity: Hypothesis Testing with Insurance Data"
   ]
  },
  {
   "cell_type": "code",
   "execution_count": null,
   "metadata": {
    "ExecuteTime": {
     "end_time": "2021-10-27T18:47:34.051018Z",
     "start_time": "2021-10-27T18:47:32.133636Z"
    }
   },
   "outputs": [],
   "source": [
    "## import the standard packages\n",
    "import pandas as pd\n",
    "import numpy as np\n",
    "import seaborn as sns\n",
    "import matplotlib.pyplot as plt\n",
    "\n",
    "\n",
    "## import hypothesis testing functions\n",
    "from scipy import stats\n",
    "\n",
    "import statsmodels.api as sm\n",
    "import statsmodels.formula.api as smf\n",
    "\n",
    "\n",
    "%load_ext autoreload\n",
    "%autoreload 2\n",
    "import functions as fn"
   ]
  },
  {
   "cell_type": "markdown",
   "metadata": {},
   "source": [
    "## US Health Insurance Dataset"
   ]
  },
  {
   "cell_type": "markdown",
   "metadata": {},
   "source": [
    "- https://www.kaggle.com/teertha/ushealthinsurancedataset"
   ]
  },
  {
   "cell_type": "code",
   "execution_count": null,
   "metadata": {
    "ExecuteTime": {
     "end_time": "2021-10-27T18:47:34.113084Z",
     "start_time": "2021-10-27T18:47:34.056405Z"
    }
   },
   "outputs": [],
   "source": [
    "# Load in the insurance.csv in the data folder and display preview\n",
    "df = pd.read_csv(\"data/insurance.csv\")\n",
    "display(df.head())\n",
    "df.info()"
   ]
  },
  {
   "cell_type": "markdown",
   "metadata": {},
   "source": [
    "### Questions to Answer"
   ]
  },
  {
   "cell_type": "markdown",
   "metadata": {},
   "source": [
    ">- Q1. Do smokers have higher insurance charges than non-smokers?\n",
    ">- Q2. Are women and men equally likely to be smokers?\n",
    ">- Q3. Do different regions have different charges, on average?\n",
    ">- [Level Up]: Q4: Do insurance companies charge smokers vs non-smokers different amounts for men vs women?"
   ]
  },
  {
   "cell_type": "markdown",
   "metadata": {},
   "source": [
    "## Q1: Do smokers have higher insurance charges than non-smokers?"
   ]
  },
  {
   "cell_type": "markdown",
   "metadata": {},
   "source": [
    "#### Formally State the Hypothesis"
   ]
  },
  {
   "cell_type": "markdown",
   "metadata": {},
   "source": [
    "- $H_1$ : \n",
    "\n",
    "- $H_0$ : "
   ]
  },
  {
   "cell_type": "markdown",
   "metadata": {},
   "source": [
    "#### Determine the Correct Statistical Test "
   ]
  },
  {
   "cell_type": "markdown",
   "metadata": {},
   "source": [
    "- Q1: What type of data are we comparing?\n",
    "    - A:\n",
    "    \n",
    "    \n",
    "- Q2: How many samples/groups are being compared?\n",
    "    - A: \n",
    "    \n",
    "    \n",
    "- Therefore, the correct test to perform would be:\n",
    "    - A:"
   ]
  },
  {
   "cell_type": "code",
   "execution_count": null,
   "metadata": {
    "ExecuteTime": {
     "end_time": "2021-10-27T18:50:37.454615Z",
     "start_time": "2021-10-27T18:50:37.451267Z"
    }
   },
   "outputs": [],
   "source": [
    "## let's visualize the distribution of charges for smokers and non-smokers\n"
   ]
  },
  {
   "cell_type": "code",
   "execution_count": null,
   "metadata": {
    "ExecuteTime": {
     "end_time": "2021-10-27T18:50:39.652558Z",
     "start_time": "2021-10-27T18:50:39.650283Z"
    }
   },
   "outputs": [],
   "source": [
    "## let's visualize the average charges for smokers and non-smokers\n"
   ]
  },
  {
   "cell_type": "code",
   "execution_count": null,
   "metadata": {
    "ExecuteTime": {
     "end_time": "2021-10-27T18:50:41.947638Z",
     "start_time": "2021-10-27T18:50:41.945850Z"
    }
   },
   "outputs": [],
   "source": [
    "## save all charges for smokers in a new smokers variable\n"
   ]
  },
  {
   "cell_type": "code",
   "execution_count": null,
   "metadata": {
    "ExecuteTime": {
     "end_time": "2021-10-27T18:50:44.029977Z",
     "start_time": "2021-10-27T18:50:44.028020Z"
    }
   },
   "outputs": [],
   "source": [
    "## now do the same for the non-smokers\n"
   ]
  },
  {
   "cell_type": "code",
   "execution_count": null,
   "metadata": {
    "ExecuteTime": {
     "end_time": "2021-10-27T18:50:46.418026Z",
     "start_time": "2021-10-27T18:50:46.416212Z"
    }
   },
   "outputs": [],
   "source": [
    "## Run the correct hypothesis test from scipy\n"
   ]
  },
  {
   "cell_type": "code",
   "execution_count": null,
   "metadata": {
    "ExecuteTime": {
     "end_time": "2021-10-27T18:47:35.006363Z",
     "start_time": "2021-10-27T18:47:34.966162Z"
    }
   },
   "outputs": [],
   "source": [
    "## interpret the p-value \n"
   ]
  },
  {
   "cell_type": "code",
   "execution_count": null,
   "metadata": {
    "ExecuteTime": {
     "end_time": "2021-10-27T18:47:35.047865Z",
     "start_time": "2021-10-27T18:47:35.008288Z"
    }
   },
   "outputs": [],
   "source": [
    "# is the result significant?\n"
   ]
  },
  {
   "cell_type": "code",
   "execution_count": null,
   "metadata": {
    "ExecuteTime": {
     "end_time": "2021-10-27T18:47:35.089273Z",
     "start_time": "2021-10-27T18:47:35.049613Z"
    }
   },
   "outputs": [],
   "source": [
    "# HOW significant? (<.01? <.001?? <.000000001???)\n"
   ]
  },
  {
   "cell_type": "code",
   "execution_count": null,
   "metadata": {
    "ExecuteTime": {
     "end_time": "2021-10-27T18:47:35.132202Z",
     "start_time": "2021-10-27T18:47:35.091184Z"
    }
   },
   "outputs": [],
   "source": [
    "## calcualte the effect size using cohen's d\n"
   ]
  },
  {
   "cell_type": "markdown",
   "metadata": {},
   "source": [
    "### Conclusion/Interpretation"
   ]
  },
  {
   "cell_type": "code",
   "execution_count": null,
   "metadata": {
    "ExecuteTime": {
     "end_time": "2021-10-27T18:47:35.339919Z",
     "start_time": "2021-10-27T18:47:35.134055Z"
    }
   },
   "outputs": [],
   "source": [
    "## Make a barplot of the average charges for smokers vs non-smokers\n"
   ]
  },
  {
   "cell_type": "markdown",
   "metadata": {},
   "source": [
    ">- `Conclusion goes here.`"
   ]
  },
  {
   "cell_type": "markdown",
   "metadata": {},
   "source": [
    "## Q2: Are women and men equally likely to be smokers?"
   ]
  },
  {
   "cell_type": "markdown",
   "metadata": {},
   "source": [
    "#### Formally State the Hypothesis\n",
    "- $H_1$ :\n",
    "\n",
    "- $H_0$ :"
   ]
  },
  {
   "cell_type": "markdown",
   "metadata": {},
   "source": [
    "#### Determine the Correct Statistical Test "
   ]
  },
  {
   "cell_type": "markdown",
   "metadata": {},
   "source": [
    "- Q1: What type of data are we comparing?\n",
    "    - A: \n",
    "    \n",
    "    \n",
    "- Q2: How many samples/groups are being compared?\n",
    "    - A: \n",
    "    \n",
    "    \n",
    "- Therefore, the correct test to perform would be:\n",
    "    - A: "
   ]
  },
  {
   "cell_type": "code",
   "execution_count": null,
   "metadata": {
    "ExecuteTime": {
     "end_time": "2021-10-27T18:51:29.168439Z",
     "start_time": "2021-10-27T18:51:29.166668Z"
    }
   },
   "outputs": [],
   "source": [
    "## Visualize the # of smokers by sex\n"
   ]
  },
  {
   "cell_type": "code",
   "execution_count": null,
   "metadata": {
    "ExecuteTime": {
     "end_time": "2021-10-27T18:51:32.826432Z",
     "start_time": "2021-10-27T18:51:32.824017Z"
    }
   },
   "outputs": [],
   "source": [
    "## Get contingency table for smoker x sex using pd.crosstab\n"
   ]
  },
  {
   "cell_type": "code",
   "execution_count": null,
   "metadata": {
    "ExecuteTime": {
     "end_time": "2021-10-27T18:51:36.973073Z",
     "start_time": "2021-10-27T18:51:36.971174Z"
    }
   },
   "outputs": [],
   "source": [
    "## perform the correct test for the hypothesis\n"
   ]
  },
  {
   "cell_type": "code",
   "execution_count": null,
   "metadata": {
    "ExecuteTime": {
     "end_time": "2021-10-27T18:51:39.863334Z",
     "start_time": "2021-10-27T18:51:39.861475Z"
    }
   },
   "outputs": [],
   "source": [
    "## interpret the p-value \n"
   ]
  },
  {
   "cell_type": "code",
   "execution_count": null,
   "metadata": {
    "ExecuteTime": {
     "end_time": "2021-10-27T18:51:42.694969Z",
     "start_time": "2021-10-27T18:51:42.693145Z"
    }
   },
   "outputs": [],
   "source": [
    "# is the result significant?\n"
   ]
  },
  {
   "cell_type": "code",
   "execution_count": null,
   "metadata": {
    "ExecuteTime": {
     "end_time": "2021-10-27T18:47:35.742310Z",
     "start_time": "2021-10-27T18:47:35.702698Z"
    }
   },
   "outputs": [],
   "source": [
    "# HOW significant? (<.01? <.001?? <.000000001???)\n"
   ]
  },
  {
   "cell_type": "markdown",
   "metadata": {},
   "source": [
    "### Conclusion/Interpretation"
   ]
  },
  {
   "cell_type": "code",
   "execution_count": null,
   "metadata": {
    "ExecuteTime": {
     "end_time": "2021-10-27T18:47:35.847210Z",
     "start_time": "2021-10-27T18:47:35.744140Z"
    }
   },
   "outputs": [],
   "source": [
    "# get the contigency table again, but normalzie it by sex\n"
   ]
  },
  {
   "cell_type": "markdown",
   "metadata": {},
   "source": [
    ">- `Conclusion goes here.`"
   ]
  },
  {
   "cell_type": "markdown",
   "metadata": {},
   "source": [
    "## Q3: Do different regions have different insurance charges?"
   ]
  },
  {
   "cell_type": "markdown",
   "metadata": {},
   "source": [
    "#### Formally State the Hypothesis\n",
    "- $H_1$ : \n",
    "- $H_0$ : "
   ]
  },
  {
   "cell_type": "markdown",
   "metadata": {},
   "source": [
    "#### Determine the Correct Statistical Test "
   ]
  },
  {
   "cell_type": "markdown",
   "metadata": {},
   "source": [
    "- Q1: What type of data are we comparing?\n",
    "    - A:\n",
    "    \n",
    "    \n",
    "- Q2: How many samples/groups are being compared?\n",
    "    - A: \n",
    "    \n",
    "- Therefore, the correct test to perform would be:\n",
    "    - A:"
   ]
  },
  {
   "cell_type": "code",
   "execution_count": null,
   "metadata": {
    "ExecuteTime": {
     "end_time": "2021-10-27T18:52:22.086678Z",
     "start_time": "2021-10-27T18:52:22.084749Z"
    }
   },
   "outputs": [],
   "source": [
    "## visualize the regions vs charges\n"
   ]
  },
  {
   "cell_type": "markdown",
   "metadata": {},
   "source": [
    "### Performing the ANOVA with `scipy`"
   ]
  },
  {
   "cell_type": "code",
   "execution_count": null,
   "metadata": {
    "ExecuteTime": {
     "end_time": "2021-10-27T18:52:47.308589Z",
     "start_time": "2021-10-27T18:52:47.306437Z"
    }
   },
   "outputs": [],
   "source": [
    "## separate the data into groups\n",
    "groups = {}\n",
    "\n",
    "\n",
    "    ## Get series for group and rename\n",
    "\n",
    "    # save into the dictionary\n",
    "\n",
    "\n",
    "## check what keys are in the groups dict\n"
   ]
  },
  {
   "cell_type": "code",
   "execution_count": null,
   "metadata": {
    "ExecuteTime": {
     "end_time": "2021-10-27T18:52:50.164867Z",
     "start_time": "2021-10-27T18:52:50.163157Z"
    }
   },
   "outputs": [],
   "source": [
    "# perform the correct hypothesis test\n",
    "# method 1 - manual slicing \n"
   ]
  },
  {
   "cell_type": "code",
   "execution_count": null,
   "metadata": {
    "ExecuteTime": {
     "end_time": "2021-10-27T18:53:53.637855Z",
     "start_time": "2021-10-27T18:53:53.636130Z"
    }
   },
   "outputs": [],
   "source": [
    "# perform the correct hypothesis test\n",
    "# method 2 - using * to unpack\n"
   ]
  },
  {
   "cell_type": "code",
   "execution_count": null,
   "metadata": {
    "ExecuteTime": {
     "end_time": "2021-10-27T18:47:36.278063Z",
     "start_time": "2021-10-27T18:47:36.234676Z"
    }
   },
   "outputs": [],
   "source": [
    "## interpret the p-value \n"
   ]
  },
  {
   "cell_type": "code",
   "execution_count": null,
   "metadata": {
    "ExecuteTime": {
     "end_time": "2021-10-27T18:47:36.323182Z",
     "start_time": "2021-10-27T18:47:36.279940Z"
    }
   },
   "outputs": [],
   "source": [
    "# is the result significant?\n"
   ]
  },
  {
   "cell_type": "code",
   "execution_count": null,
   "metadata": {
    "ExecuteTime": {
     "end_time": "2021-10-27T18:47:36.368844Z",
     "start_time": "2021-10-27T18:47:36.325040Z"
    }
   },
   "outputs": [],
   "source": [
    "# HOW significant? (<.01? <.001?? <.000000001???)\n"
   ]
  },
  {
   "cell_type": "markdown",
   "metadata": {},
   "source": [
    "### Perform ANOVA with `statsmodels`"
   ]
  },
  {
   "cell_type": "code",
   "execution_count": null,
   "metadata": {
    "ExecuteTime": {
     "end_time": "2021-10-27T18:47:36.436962Z",
     "start_time": "2021-10-27T18:47:36.371387Z"
    },
    "scrolled": true
   },
   "outputs": [],
   "source": [
    "## Create a formula to explain charges using the category of \"region\"\n",
    "\n",
    "\n",
    "## Make and fit an ols model \n",
    "\n",
    "\n",
    "# Use statsmodels anova_lm function with the model \n"
   ]
  },
  {
   "cell_type": "markdown",
   "metadata": {
    "ExecuteTime": {
     "end_time": "2021-10-26T22:24:32.962085Z",
     "start_time": "2021-10-26T22:24:32.931155Z"
    }
   },
   "source": [
    "### Posthoc Multiple Comparison Test: Determine which pairs of groups were different"
   ]
  },
  {
   "cell_type": "code",
   "execution_count": null,
   "metadata": {
    "ExecuteTime": {
     "end_time": "2021-10-27T18:47:36.477254Z",
     "start_time": "2021-10-27T18:47:36.439015Z"
    }
   },
   "outputs": [],
   "source": [
    "from statsmodels.stats.multicomp import pairwise_tukeyhsd\n",
    "## save the charges column as values and the region as labels\n",
    "values =  None\n",
    "labels = None"
   ]
  },
  {
   "cell_type": "code",
   "execution_count": null,
   "metadata": {
    "ExecuteTime": {
     "end_time": "2021-10-27T18:54:17.342148Z",
     "start_time": "2021-10-27T18:54:17.340011Z"
    }
   },
   "outputs": [],
   "source": [
    "## perform tukey's multiple comparison test and display the summary\n"
   ]
  },
  {
   "cell_type": "markdown",
   "metadata": {},
   "source": [
    "### Conclusion/Interpretation"
   ]
  },
  {
   "cell_type": "code",
   "execution_count": null,
   "metadata": {
    "ExecuteTime": {
     "end_time": "2021-10-27T18:47:36.894242Z",
     "start_time": "2021-10-27T18:47:36.641680Z"
    }
   },
   "outputs": [],
   "source": [
    "## Make a barplot using ci=68 (Standard Error of the Mean)\n"
   ]
  },
  {
   "cell_type": "markdown",
   "metadata": {},
   "source": [
    ">- `Conclusion goes here.`"
   ]
  },
  {
   "cell_type": "markdown",
   "metadata": {},
   "source": [
    "## [Level Up]: Q4: Do insurance companies charge smokers vs non-smokers different amounts for men vs women?"
   ]
  },
  {
   "cell_type": "markdown",
   "metadata": {},
   "source": [
    "#### Formally State the Hypothesis\n",
    "- $H_1$ : \n",
    "- $H_0$ : "
   ]
  },
  {
   "cell_type": "markdown",
   "metadata": {},
   "source": [
    "#### Determine the Correct Statistical Test "
   ]
  },
  {
   "cell_type": "markdown",
   "metadata": {},
   "source": [
    "- Q1: What type of data are we comparing?\n",
    "    - A:\n",
    "    \n",
    "    \n",
    "- Q2: How many samples/groups are being compared?\n",
    "    - A: \n",
    "    \n",
    "    \n",
    "<!-- - Therefore, the correct test to perform would be...??? -->\n",
    "\n",
    "\n",
    "<details>\n",
    "    <summary style='font-weight:bold;'>> Therefore, the correct test to perform would be... (click to expand) </summary>\n",
    "   <ul>\n",
    "       <li style=\"font-weight:bold;\">A: Two-Way ANOVA!  https://www.statology.org/two-way-anova-python/</li>\n",
    "    </ul>\n",
    "</details>\n"
   ]
  },
  {
   "cell_type": "code",
   "execution_count": null,
   "metadata": {
    "ExecuteTime": {
     "end_time": "2021-10-27T18:59:38.844229Z",
     "start_time": "2021-10-27T18:59:38.842077Z"
    }
   },
   "outputs": [],
   "source": [
    "## Visualzie the average charges for smokers vs non-smokers, separated by sex\n"
   ]
  },
  {
   "cell_type": "code",
   "execution_count": null,
   "metadata": {
    "ExecuteTime": {
     "end_time": "2021-10-27T19:00:30.967741Z",
     "start_time": "2021-10-27T19:00:30.965221Z"
    }
   },
   "outputs": [],
   "source": [
    "## Make the formula to explain charges with the categories of smoker and sex\n",
    "f = \"\"\n",
    "model = None\n",
    "\n",
    "## Calculate the two-way anova using your model\n",
    "results = None\n",
    "results"
   ]
  },
  {
   "cell_type": "code",
   "execution_count": null,
   "metadata": {
    "ExecuteTime": {
     "end_time": "2021-10-27T18:47:37.243436Z",
     "start_time": "2021-10-27T18:47:37.205015Z"
    }
   },
   "outputs": [],
   "source": [
    "## interpret the p-value for smokers\n",
    "p_smoker = None\n"
   ]
  },
  {
   "cell_type": "code",
   "execution_count": null,
   "metadata": {
    "ExecuteTime": {
     "end_time": "2021-10-27T18:47:37.284240Z",
     "start_time": "2021-10-27T18:47:37.245293Z"
    }
   },
   "outputs": [],
   "source": [
    "## is the p-value for smoker significant?\n"
   ]
  },
  {
   "cell_type": "code",
   "execution_count": null,
   "metadata": {
    "ExecuteTime": {
     "end_time": "2021-10-27T18:47:37.325963Z",
     "start_time": "2021-10-27T18:47:37.286312Z"
    }
   },
   "outputs": [],
   "source": [
    "##HOW significant?\n"
   ]
  },
  {
   "cell_type": "code",
   "execution_count": null,
   "metadata": {
    "ExecuteTime": {
     "end_time": "2021-10-27T18:47:37.367190Z",
     "start_time": "2021-10-27T18:47:37.327856Z"
    }
   },
   "outputs": [],
   "source": [
    "## interpret the p-value for sex\n",
    "p_sex = None\n"
   ]
  },
  {
   "cell_type": "code",
   "execution_count": null,
   "metadata": {
    "ExecuteTime": {
     "end_time": "2021-10-27T18:47:37.410253Z",
     "start_time": "2021-10-27T18:47:37.369168Z"
    }
   },
   "outputs": [],
   "source": [
    "## is the p-value for sex significant?\n"
   ]
  },
  {
   "cell_type": "markdown",
   "metadata": {},
   "source": [
    "### Conclusion"
   ]
  },
  {
   "cell_type": "code",
   "execution_count": null,
   "metadata": {
    "ExecuteTime": {
     "end_time": "2021-10-27T18:47:37.665594Z",
     "start_time": "2021-10-27T18:47:37.412345Z"
    }
   },
   "outputs": [],
   "source": [
    "## Visualzie the average charges for males vs females, separated by smokers\n"
   ]
  },
  {
   "cell_type": "markdown",
   "metadata": {},
   "source": [
    ">- `Conclusion goes here.`"
   ]
  },
  {
   "cell_type": "markdown",
   "metadata": {},
   "source": [
    "# Conclusion/Recap"
   ]
  },
  {
   "cell_type": "markdown",
   "metadata": {},
   "source": [
    "- Today we walked through testing several hypothesis that required different statistical tests. \n",
    "- We walked through setting our hypothesis and null hypothesis.\n",
    "- We then selected the right test based upon the type of data we were using and how many groups we were comparing. \n",
    "\n",
    "- We performed the chosen test, interpreted the p-value, and performed posthoc tests as needed.\n",
    "\n",
    "\n",
    "- We learned that there are more advanced statistical tests than what is included in the curriculum.\n"
   ]
  },
  {
   "cell_type": "markdown",
   "metadata": {},
   "source": [
    "# APPENDIX"
   ]
  },
  {
   "cell_type": "markdown",
   "metadata": {},
   "source": [
    "## Your Turn! Think of another Hypothesis to test."
   ]
  },
  {
   "cell_type": "markdown",
   "metadata": {},
   "source": [
    "- example: Is our sample's BMI representative of the the national average BMI? (See the pdf in the data folder for the stats)"
   ]
  },
  {
   "cell_type": "markdown",
   "metadata": {},
   "source": [
    "#### Formally State the Hypothesis\n",
    "- $H_1$ :\n",
    "- $H_0$ : "
   ]
  },
  {
   "cell_type": "markdown",
   "metadata": {},
   "source": [
    "#### Determine the Correct Statistical Test "
   ]
  },
  {
   "cell_type": "markdown",
   "metadata": {},
   "source": [
    "- Q1: What type of data are we comparing?\n",
    "    - A: |\n",
    "    \n",
    "    \n",
    "- Q2: How many samples/groups are being compared?\n",
    "    - A: \n",
    "    \n",
    "    \n",
    "- Therefore, the correct test to perform would be:\n",
    "    - A:"
   ]
  },
  {
   "cell_type": "code",
   "execution_count": null,
   "metadata": {},
   "outputs": [],
   "source": []
  }
 ],
 "metadata": {
  "kernelspec": {
   "display_name": "Python (learn-env)",
   "language": "python",
   "name": "learn-env"
  },
  "language_info": {
   "codemirror_mode": {
    "name": "ipython",
    "version": 3
   },
   "file_extension": ".py",
   "mimetype": "text/x-python",
   "name": "python",
   "nbconvert_exporter": "python",
   "pygments_lexer": "ipython3",
   "version": "3.8.5"
  },
  "toc": {
   "base_numbering": 1,
   "nav_menu": {},
   "number_sections": true,
   "sideBar": true,
   "skip_h1_title": false,
   "title_cell": "Table of Contents",
   "title_sidebar": "Contents",
   "toc_cell": false,
   "toc_position": {
    "height": "calc(100% - 180px)",
    "left": "10px",
    "top": "150px",
    "width": "256px"
   },
   "toc_section_display": true,
   "toc_window_display": true
  }
 },
 "nbformat": 4,
 "nbformat_minor": 4
}
