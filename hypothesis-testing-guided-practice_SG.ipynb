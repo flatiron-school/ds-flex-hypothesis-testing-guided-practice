{
 "cells": [
  {
   "cell_type": "markdown",
   "metadata": {},
   "source": [
    "# Hypothesis Testing - Guided Practice"
   ]
  },
  {
   "cell_type": "markdown",
   "metadata": {},
   "source": [
    "- ds-flex \n",
    "- 10/27/21"
   ]
  },
  {
   "cell_type": "markdown",
   "metadata": {},
   "source": [
    "# 📚Hypothesis Testing Steps"
   ]
  },
  {
   "cell_type": "markdown",
   "metadata": {},
   "source": [
    "<img src=\"https://raw.githubusercontent.com/learn-co-curriculum/dsc-experimental-design/master/images/new_the-scientific-method.png\" width=50%>"
   ]
  },
  {
   "cell_type": "markdown",
   "metadata": {},
   "source": [
    "## Overview"
   ]
  },
  {
   "cell_type": "markdown",
   "metadata": {},
   "source": [
    "1. State the null hypothesis ($H_0$) and the alternative hypothesis ($H_A$ or $H_1$)\n",
    "\n",
    "\n",
    "2. Determine the correct test to perform.\n",
    "    - What test is appropriate for your hypothesis?\n",
    "    - What value should we use for $\\alpha$? (e.g.: .05, .01,.001 ?)\n",
    "    \n",
    "    \n",
    "3. Prepare the data and perform the selected test. \n",
    "\n",
    "4. Interpret the resulting p-value (reject or fail to reject the null hypothesis) \n",
    "\n",
    "5. Perform posthoc tests (if necessary)"
   ]
  },
  {
   "cell_type": "markdown",
   "metadata": {},
   "source": [
    "### STEP 1: State Your Hypothesis & Null Hypothesis "
   ]
  },
  {
   "cell_type": "markdown",
   "metadata": {},
   "source": [
    "- **Before selecting the correct hypothesis test, you must first officially state your null hypothesis ($H_0$) and alternative hypothesis ($H_A$ or $H_1$)**\n",
    "\n",
    "\n",
    "\n",
    "- **Before stating your hypotheses, ask yourself:**\n",
    "    1. What question am I attempting to answer?\n",
    "    2. What metric/value am I measuring to answer this question?\n",
    "    3. Do I expect the groups to be different in a specific way? (i.e. one group greater than the other).\n",
    "        - Or do I just think they'll be different, but don't know how?\n"
   ]
  },
  {
   "cell_type": "markdown",
   "metadata": {},
   "source": [
    "### STEP 2: Determine the correct test for the data/hypothesis\n",
    "\n",
    "<!-- based on data type and # of samples/groups -->"
   ]
  },
  {
   "cell_type": "markdown",
   "metadata": {},
   "source": [
    "#### Q1: What type of data am I measuring? Is it numeric or categorical?\n",
    "\n",
    "\n",
    "#### Q2: How many groups/samples am I comparing?\n",
    "- One group vs a known value?\n",
    "- Two groups?\n",
    "- More than two groups?\n",
    "\n",
    "\n",
    "#### Using the answers to the above 2 questions: select the type of test from this table.\n",
    "\n",
    "|*What type of comparison?* | Numeric Data | Categorical Data|\n",
    "| --- | --- | --- |\n",
    "|**1 Sample vs Known Quantity/Target**|1 Sample T-Test| Binomial Test|\n",
    "|**2 Samples** | 2 Sample T-Test| Chi-Square|\n",
    "|**More than 2**| ANOVA and/or Tukey | Chi Square|\n",
    "\n",
    "\n",
    "#### What probability will we use as our significance cutoff?\n",
    "\n",
    "- Set your $\\alpha$ level (typically $\\alpha$ =.05)\n",
    "    - How rare should the value be before we consider it to be an outlier/statistically significantly different?\n",
    "\n",
    "<img src=\"images/normal_sd_new.png\" width=\"500\">\n"
   ]
  },
  {
   "cell_type": "markdown",
   "metadata": {},
   "source": [
    "### STEP 3: Perform the test"
   ]
  },
  {
   "cell_type": "markdown",
   "metadata": {},
   "source": [
    "#### Hypothesis Testing Functions\n",
    "\n",
    "```python\n",
    "from scipy import stats\n",
    "```\n",
    "\n",
    "| Hypothesis test|Scipy Function | \n",
    " | --- | --- |\n",
    " | **1-sample t-test** |`stats.ttest_1samp()`|\n",
    " | **2-sample t-test** |`stats.ttest_ind()` | \n",
    " | **One-Way ANOVA** | `stats.f_oneway()` | \n",
    " | **Binomial test** |`stats.binom_test()` |\n",
    " | **Chi-Square test** | `stats.chi2_contingency()`|\n",
    " \n",
    " \n",
    "\n",
    "- **Perform the test to get your test-statistic and the associated p-value.**"
   ]
  },
  {
   "cell_type": "markdown",
   "metadata": {},
   "source": [
    "### STEP 4: Interpret the test result and perform any post-hoc test"
   ]
  },
  {
   "cell_type": "markdown",
   "metadata": {},
   "source": [
    "\n",
    "\n",
    "#### Interpret your p-value compared to $\\alpha$\n",
    "\n",
    "\n",
    "- **If p > $\\alpha$:**:\n",
    "    - We fail to reject the null hypothesis.\n",
    "        - The observed difference likely occurred due to random chance, not do to the effect we were analyzing.\n",
    "        - We have essentially disproved our hypothesis.\n",
    "    - The result is not significant.\n",
    "    \n",
    "    \n",
    "- **If p is < $\\alpha$:**\n",
    "    - We reject the null hypothesis. \n",
    "        - The observed difference was most likely NOT due to random chance.\n",
    "        - We have \"supported\" our hypothesis. (we NEVER \"prove\" our hypothesis)\n",
    "    - The result is significant.\n",
    "\n",
    "\n",
    "<img src=\"https://imgs.xkcd.com/comics/p_values.png\">\n",
    "\n",
    "#### Next Steps \n",
    "- **If we did not have significant results:**\n",
    "    - We are done! Write up the final answer. \n",
    "    \n",
    "- **If we had significant results:**\n",
    "\n",
    "    - If there are 2 groups:\n",
    "        - Use a visualization to confirm which group had the larger/smaller value. (e.g. a barplot).\n",
    "        - Calculate effect size (e.g. Cohen's $d$)\n",
    "        - Write up the final answer.\n",
    "\n",
    "    - If there are >2 groups:\n",
    "        - Run a pairwise multiple-comparison test (e.g. Tukey's test) to determine which groups were different.\n",
    "            - [Tukey pairwise comparison test](https://www.statsmodels.org/stable/generated/statsmodels.stats.multicomp.pairwise_tukeyhsd.html) (`statsmodels.stats.multicomp.pairwise_tukeyhsd`)\n",
    "\n",
    "\n",
    "- Report statistical power (optional)\n",
    "\n",
    "#### Post-Hoc Functions:\n",
    "\n",
    "| Post-Hoc Tests/Calculatons|Function|\n",
    "|--- | --- |\n",
    "|**Tukey's Pairwise Comparisons** | `statsmodels.stats.multicomp.pairwise_tukeyhsd`|\n",
    "|**Effect Size**| `Cohens_d`|\n",
    "|**Statistical Power** | `statsmodels.stats.power`:<br>  `TTestIndPower` , `TTestPower`"
   ]
  },
  {
   "cell_type": "markdown",
   "metadata": {},
   "source": [
    "## Resources "
   ]
  },
  {
   "cell_type": "markdown",
   "metadata": {},
   "source": [
    "- See the included [Hypothesis Testing Slide Deck](https://github.com/flatiron-school/ds-flex-hypothesis-testing-guided-practice/blob/main/resources/Hypothesis%20Testing%20with%20SciPy_codeacademy%20slides.pdf) for a recap of the process.\n",
    "\n",
    "- See the included [Hypothesis Testing with Scipy Cheatsheet](https://github.com/flatiron-school/ds-flex-hypothesis-testing-guided-practice/blob/main/resources/hypothesis-testing-with-scipy%20cheatsheet.pdf)\n",
    "\n",
    "- Both are also included in the `resources` folder, as well"
   ]
  },
  {
   "cell_type": "markdown",
   "metadata": {},
   "source": [
    "# 🕹Activity: Hypothesis Testing with Insurance Data"
   ]
  },
  {
   "cell_type": "code",
   "execution_count": 1,
   "metadata": {
    "ExecuteTime": {
     "end_time": "2021-11-03T22:06:22.442182Z",
     "start_time": "2021-11-03T22:06:18.475141Z"
    }
   },
   "outputs": [],
   "source": [
    "## import the standard packages\n",
    "import pandas as pd\n",
    "import numpy as np\n",
    "import seaborn as sns\n",
    "import matplotlib.pyplot as plt\n",
    "\n",
    "\n",
    "## import hypothesis testing functions\n",
    "from scipy import stats\n",
    "\n",
    "import statsmodels.api as sm\n",
    "import statsmodels.formula.api as smf\n",
    "\n",
    "\n",
    "%load_ext autoreload\n",
    "%autoreload 2\n",
    "import functions as fn"
   ]
  },
  {
   "cell_type": "markdown",
   "metadata": {},
   "source": [
    "## US Health Insurance Dataset"
   ]
  },
  {
   "cell_type": "markdown",
   "metadata": {},
   "source": [
    "- https://www.kaggle.com/teertha/ushealthinsurancedataset"
   ]
  },
  {
   "cell_type": "code",
   "execution_count": 2,
   "metadata": {
    "ExecuteTime": {
     "end_time": "2021-11-03T22:06:25.678928Z",
     "start_time": "2021-11-03T22:06:25.582744Z"
    }
   },
   "outputs": [
    {
     "data": {
      "text/html": [
       "<div>\n",
       "<style scoped>\n",
       "    .dataframe tbody tr th:only-of-type {\n",
       "        vertical-align: middle;\n",
       "    }\n",
       "\n",
       "    .dataframe tbody tr th {\n",
       "        vertical-align: top;\n",
       "    }\n",
       "\n",
       "    .dataframe thead th {\n",
       "        text-align: right;\n",
       "    }\n",
       "</style>\n",
       "<table border=\"1\" class=\"dataframe\">\n",
       "  <thead>\n",
       "    <tr style=\"text-align: right;\">\n",
       "      <th></th>\n",
       "      <th>age</th>\n",
       "      <th>sex</th>\n",
       "      <th>bmi</th>\n",
       "      <th>children</th>\n",
       "      <th>smoker</th>\n",
       "      <th>region</th>\n",
       "      <th>charges</th>\n",
       "    </tr>\n",
       "  </thead>\n",
       "  <tbody>\n",
       "    <tr>\n",
       "      <th>0</th>\n",
       "      <td>19</td>\n",
       "      <td>female</td>\n",
       "      <td>27.900</td>\n",
       "      <td>0</td>\n",
       "      <td>yes</td>\n",
       "      <td>southwest</td>\n",
       "      <td>16884.92400</td>\n",
       "    </tr>\n",
       "    <tr>\n",
       "      <th>1</th>\n",
       "      <td>18</td>\n",
       "      <td>male</td>\n",
       "      <td>33.770</td>\n",
       "      <td>1</td>\n",
       "      <td>no</td>\n",
       "      <td>southeast</td>\n",
       "      <td>1725.55230</td>\n",
       "    </tr>\n",
       "    <tr>\n",
       "      <th>2</th>\n",
       "      <td>28</td>\n",
       "      <td>male</td>\n",
       "      <td>33.000</td>\n",
       "      <td>3</td>\n",
       "      <td>no</td>\n",
       "      <td>southeast</td>\n",
       "      <td>4449.46200</td>\n",
       "    </tr>\n",
       "    <tr>\n",
       "      <th>3</th>\n",
       "      <td>33</td>\n",
       "      <td>male</td>\n",
       "      <td>22.705</td>\n",
       "      <td>0</td>\n",
       "      <td>no</td>\n",
       "      <td>northwest</td>\n",
       "      <td>21984.47061</td>\n",
       "    </tr>\n",
       "    <tr>\n",
       "      <th>4</th>\n",
       "      <td>32</td>\n",
       "      <td>male</td>\n",
       "      <td>28.880</td>\n",
       "      <td>0</td>\n",
       "      <td>no</td>\n",
       "      <td>northwest</td>\n",
       "      <td>3866.85520</td>\n",
       "    </tr>\n",
       "  </tbody>\n",
       "</table>\n",
       "</div>"
      ],
      "text/plain": [
       "   age     sex     bmi  children smoker     region      charges\n",
       "0   19  female  27.900         0    yes  southwest  16884.92400\n",
       "1   18    male  33.770         1     no  southeast   1725.55230\n",
       "2   28    male  33.000         3     no  southeast   4449.46200\n",
       "3   33    male  22.705         0     no  northwest  21984.47061\n",
       "4   32    male  28.880         0     no  northwest   3866.85520"
      ]
     },
     "metadata": {},
     "output_type": "display_data"
    },
    {
     "name": "stdout",
     "output_type": "stream",
     "text": [
      "<class 'pandas.core.frame.DataFrame'>\n",
      "RangeIndex: 1338 entries, 0 to 1337\n",
      "Data columns (total 7 columns):\n",
      " #   Column    Non-Null Count  Dtype  \n",
      "---  ------    --------------  -----  \n",
      " 0   age       1338 non-null   int64  \n",
      " 1   sex       1338 non-null   object \n",
      " 2   bmi       1338 non-null   float64\n",
      " 3   children  1338 non-null   int64  \n",
      " 4   smoker    1338 non-null   object \n",
      " 5   region    1338 non-null   object \n",
      " 6   charges   1338 non-null   float64\n",
      "dtypes: float64(2), int64(2), object(3)\n",
      "memory usage: 73.3+ KB\n"
     ]
    }
   ],
   "source": [
    "# Load in the insurance.csv in the data folder and display preview\n",
    "df = pd.read_csv(\"data/insurance.csv\")\n",
    "display(df.head())\n",
    "df.info()"
   ]
  },
  {
   "cell_type": "markdown",
   "metadata": {},
   "source": [
    "### Questions to Answer"
   ]
  },
  {
   "cell_type": "markdown",
   "metadata": {},
   "source": [
    ">- Q1. Do smokers have higher insurance charges than non-smokers?\n",
    ">- Q2. Are women and men equally likely to be smokers?\n",
    ">- Q3. Do different regions have different charges, on average?\n",
    ">- [Level Up]: Q4: Do insurance companies charge smokers vs non-smokers different amounts for men vs women?"
   ]
  },
  {
   "cell_type": "markdown",
   "metadata": {},
   "source": [
    "## Q1: Do smokers have higher insurance charges than non-smokers?"
   ]
  },
  {
   "cell_type": "markdown",
   "metadata": {},
   "source": [
    "#### Formally State the Hypothesis"
   ]
  },
  {
   "cell_type": "markdown",
   "metadata": {},
   "source": [
    "- $H_1$ : Smokers have higher insurance charges than non-smokers.\n",
    "\n",
    "- $H_0$ : Smokers have the same insurance charges as non-smokers."
   ]
  },
  {
   "cell_type": "markdown",
   "metadata": {},
   "source": [
    "#### Determine the Correct Statistical Test "
   ]
  },
  {
   "cell_type": "markdown",
   "metadata": {},
   "source": [
    "- Q1: What type of data are we comparing?\n",
    "    - A:\n",
    "    \n",
    "    \n",
    "- Q2: How many samples/groups are being compared?\n",
    "    - A: \n",
    "    \n",
    "    \n",
    "- Therefore, the correct test to perform would be:\n",
    "    - A:"
   ]
  },
  {
   "cell_type": "code",
   "execution_count": 11,
   "metadata": {
    "ExecuteTime": {
     "end_time": "2021-11-03T22:12:43.702593Z",
     "start_time": "2021-11-03T22:12:43.067266Z"
    }
   },
   "outputs": [
    {
     "data": {
      "text/plain": [
       "<seaborn.axisgrid.FacetGrid at 0x7fb00be9f370>"
      ]
     },
     "execution_count": 11,
     "metadata": {},
     "output_type": "execute_result"
    },
    {
     "data": {
      "image/png": "[encoded data removed]",
      "text/plain": [
       "<Figure size 413.25x360 with 1 Axes>"
      ]
     },
     "metadata": {
      "needs_background": "light"
     },
     "output_type": "display_data"
    }
   ],
   "source": [
    "## let's visualize the distribution of charges for smokers and non-smokers\n",
    "sns.displot(data=df, x='charges',hue='smoker')"
   ]
  },
  {
   "cell_type": "code",
   "execution_count": null,
   "metadata": {},
   "outputs": [],
   "source": []
  },
  {
   "cell_type": "code",
   "execution_count": 12,
   "metadata": {
    "ExecuteTime": {
     "end_time": "2021-11-03T22:15:20.802985Z",
     "start_time": "2021-11-03T22:15:20.568877Z"
    }
   },
   "outputs": [
    {
     "data": {
      "text/plain": [
       "<AxesSubplot:xlabel='smoker', ylabel='charges'>"
      ]
     },
     "execution_count": 12,
     "metadata": {},
     "output_type": "execute_result"
    },
    {
     "data": {
      "image/png": "[encoded data removed]",
      "text/plain": [
       "<Figure size 432x288 with 1 Axes>"
      ]
     },
     "metadata": {
      "needs_background": "light"
     },
     "output_type": "display_data"
    }
   ],
   "source": [
    "## let's visualize the average charges for smokers and non-smokers\n",
    "sns.barplot(data=df, y='charges',x='smoker',ci=68)"
   ]
  },
  {
   "cell_type": "code",
   "execution_count": 29,
   "metadata": {
    "ExecuteTime": {
     "end_time": "2021-11-03T22:26:58.741119Z",
     "start_time": "2021-11-03T22:26:58.695205Z"
    }
   },
   "outputs": [
    {
     "data": {
      "text/plain": [
       "0       16884.92400\n",
       "11      27808.72510\n",
       "14      39611.75770\n",
       "19      36837.46700\n",
       "23      37701.87680\n",
       "           ...     \n",
       "1313    36397.57600\n",
       "1314    18765.87545\n",
       "1321    28101.33305\n",
       "1323    43896.37630\n",
       "1337    29141.36030\n",
       "Name: smoker, Length: 274, dtype: float64"
      ]
     },
     "execution_count": 29,
     "metadata": {},
     "output_type": "execute_result"
    }
   ],
   "source": [
    "## save all charges for smokers in a new smokers variable\n",
    "smoker = df.groupby('smoker').get_group('yes')['charges']\n",
    "smoker.name = 'smoker'\n",
    "smoker"
   ]
  },
  {
   "cell_type": "code",
   "execution_count": 17,
   "metadata": {
    "ExecuteTime": {
     "end_time": "2021-11-03T22:17:46.369532Z",
     "start_time": "2021-11-03T22:17:46.321081Z"
    }
   },
   "outputs": [
    {
     "data": {
      "text/plain": [
       "1        1725.55230\n",
       "2        4449.46200\n",
       "3       21984.47061\n",
       "4        3866.85520\n",
       "5        3756.62160\n",
       "           ...     \n",
       "1332    11411.68500\n",
       "1333    10600.54830\n",
       "1334     2205.98080\n",
       "1335     1629.83350\n",
       "1336     2007.94500\n",
       "Name: charges, Length: 1064, dtype: float64"
      ]
     },
     "execution_count": 17,
     "metadata": {},
     "output_type": "execute_result"
    }
   ],
   "source": [
    "nonsmoker = df.groupby('smoker').get_group('no')['charges']\n",
    "nonsmoker"
   ]
  },
  {
   "cell_type": "code",
   "execution_count": null,
   "metadata": {
    "ExecuteTime": {
     "end_time": "2021-10-27T18:50:44.029977Z",
     "start_time": "2021-10-27T18:50:44.028020Z"
    }
   },
   "outputs": [],
   "source": [
    "## now do the same for the non-smokers\n"
   ]
  },
  {
   "cell_type": "code",
   "execution_count": null,
   "metadata": {
    "ExecuteTime": {
     "end_time": "2021-10-27T18:50:46.418026Z",
     "start_time": "2021-10-27T18:50:46.416212Z"
    }
   },
   "outputs": [],
   "source": [
    "## Run the correct hypothesis test from scipy\n"
   ]
  },
  {
   "cell_type": "code",
   "execution_count": 19,
   "metadata": {
    "ExecuteTime": {
     "end_time": "2021-11-03T22:17:53.236547Z",
     "start_time": "2021-11-03T22:17:53.193120Z"
    }
   },
   "outputs": [
    {
     "data": {
      "text/plain": [
       "Ttest_indResult(statistic=46.664921172723716, pvalue=8.271435842177219e-283)"
      ]
     },
     "execution_count": 19,
     "metadata": {},
     "output_type": "execute_result"
    }
   ],
   "source": [
    "result = stats.ttest_ind(smoker,nonsmoker)\n",
    "result"
   ]
  },
  {
   "cell_type": "code",
   "execution_count": 21,
   "metadata": {
    "ExecuteTime": {
     "end_time": "2021-11-03T22:18:20.050168Z",
     "start_time": "2021-11-03T22:18:20.004751Z"
    }
   },
   "outputs": [
    {
     "data": {
      "text/plain": [
       "True"
      ]
     },
     "execution_count": 21,
     "metadata": {},
     "output_type": "execute_result"
    }
   ],
   "source": [
    "## interpret the p-value \n",
    "result.pvalue  <.05"
   ]
  },
  {
   "cell_type": "code",
   "execution_count": null,
   "metadata": {
    "ExecuteTime": {
     "end_time": "2021-10-27T18:47:35.047865Z",
     "start_time": "2021-10-27T18:47:35.008288Z"
    }
   },
   "outputs": [],
   "source": [
    "# is the result significant?\n",
    "result.pvalue  <.05"
   ]
  },
  {
   "cell_type": "code",
   "execution_count": 24,
   "metadata": {
    "ExecuteTime": {
     "end_time": "2021-11-03T22:18:56.462448Z",
     "start_time": "2021-11-03T22:18:56.419157Z"
    }
   },
   "outputs": [
    {
     "data": {
      "text/plain": [
       "True"
      ]
     },
     "execution_count": 24,
     "metadata": {},
     "output_type": "execute_result"
    }
   ],
   "source": [
    "# HOW significant? (<.01? <.001?? <.000000001???)\n",
    "result.pvalue  <.0001"
   ]
  },
  {
   "cell_type": "code",
   "execution_count": 25,
   "metadata": {
    "ExecuteTime": {
     "end_time": "2021-11-03T22:19:40.631563Z",
     "start_time": "2021-11-03T22:19:40.585803Z"
    }
   },
   "outputs": [
    {
     "name": "stdout",
     "output_type": "stream",
     "text": [
      "INTERPRETATION OF COHEN's D: \n",
      "    > Small effect = 0.2\n",
      "    > Medium Effect = 0.5\n",
      "    > Large Effect = 0.8\n",
      "    \n"
     ]
    },
    {
     "data": {
      "text/plain": [
       "3.160132313169358"
      ]
     },
     "execution_count": 25,
     "metadata": {},
     "output_type": "execute_result"
    }
   ],
   "source": [
    "## calcualte the effect size using cohen's d\n",
    "fn.Cohen_d(smoker,nonsmoker)"
   ]
  },
  {
   "cell_type": "markdown",
   "metadata": {},
   "source": [
    "### Conclusion/Interpretation"
   ]
  },
  {
   "cell_type": "code",
   "execution_count": 26,
   "metadata": {
    "ExecuteTime": {
     "end_time": "2021-11-03T22:19:52.284080Z",
     "start_time": "2021-11-03T22:19:52.037487Z"
    }
   },
   "outputs": [
    {
     "data": {
      "text/plain": [
       "<AxesSubplot:xlabel='smoker', ylabel='charges'>"
      ]
     },
     "execution_count": 26,
     "metadata": {},
     "output_type": "execute_result"
    },
    {
     "data": {
      "image/png": "[encoded data removed]",
      "text/plain": [
       "<Figure size 432x288 with 1 Axes>"
      ]
     },
     "metadata": {
      "needs_background": "light"
     },
     "output_type": "display_data"
    }
   ],
   "source": [
    "## Make a barplot of the average charges for smokers vs non-smokers\n",
    "sns.barplot(data=df, y='charges',x='smoker',ci=68)"
   ]
  },
  {
   "cell_type": "markdown",
   "metadata": {},
   "source": [
    ">- `Conclusion goes here.`"
   ]
  },
  {
   "cell_type": "markdown",
   "metadata": {},
   "source": [
    "## Q2: Are women and men equally likely to be smokers?"
   ]
  },
  {
   "cell_type": "markdown",
   "metadata": {},
   "source": [
    "#### Formally State the Hypothesis\n",
    "- $H_1$ :\n",
    "\n",
    "- $H_0$ :"
   ]
  },
  {
   "cell_type": "markdown",
   "metadata": {},
   "source": [
    "#### Determine the Correct Statistical Test "
   ]
  },
  {
   "cell_type": "markdown",
   "metadata": {},
   "source": [
    "- Q1: What type of data are we comparing?\n",
    "    - A: \n",
    "    \n",
    "    \n",
    "- Q2: How many samples/groups are being compared?\n",
    "    - A: \n",
    "    \n",
    "    \n",
    "- Therefore, the correct test to perform would be:\n",
    "    - A: "
   ]
  },
  {
   "cell_type": "code",
   "execution_count": null,
   "metadata": {
    "ExecuteTime": {
     "end_time": "2021-10-27T18:51:29.168439Z",
     "start_time": "2021-10-27T18:51:29.166668Z"
    }
   },
   "outputs": [],
   "source": [
    "## Visualize the # of smokers by sex\n"
   ]
  },
  {
   "cell_type": "code",
   "execution_count": null,
   "metadata": {
    "ExecuteTime": {
     "end_time": "2021-10-27T18:51:32.826432Z",
     "start_time": "2021-10-27T18:51:32.824017Z"
    }
   },
   "outputs": [],
   "source": [
    "## Get contingency table for smoker x sex using pd.crosstab\n"
   ]
  },
  {
   "cell_type": "code",
   "execution_count": null,
   "metadata": {
    "ExecuteTime": {
     "end_time": "2021-10-27T18:51:36.973073Z",
     "start_time": "2021-10-27T18:51:36.971174Z"
    }
   },
   "outputs": [],
   "source": [
    "## perform the correct test for the hypothesis\n"
   ]
  },
  {
   "cell_type": "code",
   "execution_count": null,
   "metadata": {
    "ExecuteTime": {
     "end_time": "2021-10-27T18:51:39.863334Z",
     "start_time": "2021-10-27T18:51:39.861475Z"
    }
   },
   "outputs": [],
   "source": [
    "## interpret the p-value \n"
   ]
  },
  {
   "cell_type": "code",
   "execution_count": null,
   "metadata": {
    "ExecuteTime": {
     "end_time": "2021-10-27T18:51:42.694969Z",
     "start_time": "2021-10-27T18:51:42.693145Z"
    }
   },
   "outputs": [],
   "source": [
    "# is the result significant?\n"
   ]
  },
  {
   "cell_type": "code",
   "execution_count": null,
   "metadata": {
    "ExecuteTime": {
     "end_time": "2021-10-27T18:47:35.742310Z",
     "start_time": "2021-10-27T18:47:35.702698Z"
    }
   },
   "outputs": [],
   "source": [
    "# HOW significant? (<.01? <.001?? <.000000001???)\n"
   ]
  },
  {
   "cell_type": "markdown",
   "metadata": {},
   "source": [
    "### Conclusion/Interpretation"
   ]
  },
  {
   "cell_type": "code",
   "execution_count": null,
   "metadata": {
    "ExecuteTime": {
     "end_time": "2021-10-27T18:47:35.847210Z",
     "start_time": "2021-10-27T18:47:35.744140Z"
    }
   },
   "outputs": [],
   "source": [
    "# get the contigency table again, but normalzie it by sex\n"
   ]
  },
  {
   "cell_type": "markdown",
   "metadata": {},
   "source": [
    ">- `Conclusion goes here.`"
   ]
  },
  {
   "cell_type": "markdown",
   "metadata": {},
   "source": [
    "## Q3: Do different regions have different insurance charges?"
   ]
  },
  {
   "cell_type": "markdown",
   "metadata": {},
   "source": [
    "#### Formally State the Hypothesis\n",
    "- $H_1$ : Different regions have different average charges.\n",
    "- $H_0$ : Different regions have the same average charges."
   ]
  },
  {
   "cell_type": "markdown",
   "metadata": {},
   "source": [
    "#### Determine the Correct Statistical Test "
   ]
  },
  {
   "cell_type": "markdown",
   "metadata": {},
   "source": [
    "- Q1: What type of data are we comparing?\n",
    "    - A:\n",
    "    \n",
    "    \n",
    "- Q2: How many samples/groups are being compared?\n",
    "    - A: \n",
    "    \n",
    "- Therefore, the correct test to perform would be:\n",
    "    - A:"
   ]
  },
  {
   "cell_type": "code",
   "execution_count": null,
   "metadata": {},
   "outputs": [],
   "source": []
  },
  {
   "cell_type": "code",
   "execution_count": 37,
   "metadata": {
    "ExecuteTime": {
     "end_time": "2021-11-03T22:29:31.621332Z",
     "start_time": "2021-11-03T22:29:31.175821Z"
    }
   },
   "outputs": [
    {
     "data": {
      "text/plain": [
       "<AxesSubplot:xlabel='region', ylabel='charges'>"
      ]
     },
     "execution_count": 37,
     "metadata": {},
     "output_type": "execute_result"
    },
    {
     "data": {
      "image/png": "[encoded data removed]",
      "text/plain": [
       "<Figure size 432x288 with 1 Axes>"
      ]
     },
     "metadata": {
      "needs_background": "light"
     },
     "output_type": "display_data"
    }
   ],
   "source": [
    "## visualize the regions vs charges\n",
    "sns.barplot(data=df, x='region',y='charges',ci=68)"
   ]
  },
  {
   "cell_type": "markdown",
   "metadata": {},
   "source": [
    "### Performing the ANOVA with `scipy`"
   ]
  },
  {
   "cell_type": "code",
   "execution_count": 32,
   "metadata": {
    "ExecuteTime": {
     "end_time": "2021-11-03T22:27:45.817543Z",
     "start_time": "2021-11-03T22:27:45.772461Z"
    }
   },
   "outputs": [
    {
     "data": {
      "text/plain": [
       "dict_keys(['southwest', 'southeast', 'northwest', 'northeast'])"
      ]
     },
     "execution_count": 32,
     "metadata": {},
     "output_type": "execute_result"
    }
   ],
   "source": [
    "## separate the data into groups\n",
    "groups = {}\n",
    "\n",
    "for region in df['region'].unique():\n",
    "\n",
    "    ## Get series for group and rename\n",
    "    group = df.groupby('region').get_group(region)['charges']\n",
    "    group.name=region\n",
    "    # save into the dictionary\n",
    "    groups[region] = group\n",
    "\n",
    "## check what keys are in the groups dict\n",
    "groups.keys()"
   ]
  },
  {
   "cell_type": "code",
   "execution_count": 33,
   "metadata": {
    "ExecuteTime": {
     "end_time": "2021-11-03T22:27:54.062512Z",
     "start_time": "2021-11-03T22:27:54.018669Z"
    }
   },
   "outputs": [
    {
     "data": {
      "text/plain": [
       "1        1725.5523\n",
       "2        4449.4620\n",
       "5        3756.6216\n",
       "6        8240.5896\n",
       "11      27808.7251\n",
       "           ...    \n",
       "1322    12981.3457\n",
       "1323    43896.3763\n",
       "1327     9377.9047\n",
       "1330    12629.1656\n",
       "1335     1629.8335\n",
       "Name: southeast, Length: 364, dtype: float64"
      ]
     },
     "execution_count": 33,
     "metadata": {},
     "output_type": "execute_result"
    }
   ],
   "source": [
    "groups['southeast']"
   ]
  },
  {
   "cell_type": "code",
   "execution_count": 35,
   "metadata": {
    "ExecuteTime": {
     "end_time": "2021-11-03T22:28:53.879659Z",
     "start_time": "2021-11-03T22:28:53.825853Z"
    }
   },
   "outputs": [
    {
     "data": {
      "text/plain": [
       "F_onewayResult(statistic=2.969626693589119, pvalue=0.0308933560705201)"
      ]
     },
     "execution_count": 35,
     "metadata": {},
     "output_type": "execute_result"
    }
   ],
   "source": [
    "# perform the correct hypothesis test\n",
    "# method 1 - manual slicing \n",
    "result = stats.f_oneway( groups['southeast'],\n",
    "              groups['southwest'],\n",
    "              groups['northeast'],\n",
    "              groups['northwest'])\n",
    "result"
   ]
  },
  {
   "cell_type": "code",
   "execution_count": null,
   "metadata": {
    "ExecuteTime": {
     "end_time": "2021-10-27T18:53:53.637855Z",
     "start_time": "2021-10-27T18:53:53.636130Z"
    }
   },
   "outputs": [],
   "source": [
    "# perform the correct hypothesis test\n",
    "# method 2 - using * to unpack\n"
   ]
  },
  {
   "cell_type": "code",
   "execution_count": null,
   "metadata": {
    "ExecuteTime": {
     "end_time": "2021-10-27T18:47:36.278063Z",
     "start_time": "2021-10-27T18:47:36.234676Z"
    }
   },
   "outputs": [],
   "source": [
    "## interpret the p-value \n"
   ]
  },
  {
   "cell_type": "code",
   "execution_count": null,
   "metadata": {
    "ExecuteTime": {
     "end_time": "2021-10-27T18:47:36.323182Z",
     "start_time": "2021-10-27T18:47:36.279940Z"
    }
   },
   "outputs": [],
   "source": [
    "# is the result significant?\n"
   ]
  },
  {
   "cell_type": "code",
   "execution_count": null,
   "metadata": {
    "ExecuteTime": {
     "end_time": "2021-10-27T18:47:36.368844Z",
     "start_time": "2021-10-27T18:47:36.325040Z"
    }
   },
   "outputs": [],
   "source": [
    "# HOW significant? (<.01? <.001?? <.000000001???)\n"
   ]
  },
  {
   "cell_type": "markdown",
   "metadata": {},
   "source": [
    "### Perform ANOVA with `statsmodels`"
   ]
  },
  {
   "cell_type": "code",
   "execution_count": 46,
   "metadata": {
    "ExecuteTime": {
     "end_time": "2021-11-03T22:39:48.370088Z",
     "start_time": "2021-11-03T22:39:48.297047Z"
    },
    "scrolled": true
   },
   "outputs": [
    {
     "data": {
      "text/html": [
       "<div>\n",
       "<style scoped>\n",
       "    .dataframe tbody tr th:only-of-type {\n",
       "        vertical-align: middle;\n",
       "    }\n",
       "\n",
       "    .dataframe tbody tr th {\n",
       "        vertical-align: top;\n",
       "    }\n",
       "\n",
       "    .dataframe thead th {\n",
       "        text-align: right;\n",
       "    }\n",
       "</style>\n",
       "<table border=\"1\" class=\"dataframe\">\n",
       "  <thead>\n",
       "    <tr style=\"text-align: right;\">\n",
       "      <th></th>\n",
       "      <th>df</th>\n",
       "      <th>sum_sq</th>\n",
       "      <th>mean_sq</th>\n",
       "      <th>F</th>\n",
       "      <th>PR(&gt;F)</th>\n",
       "    </tr>\n",
       "  </thead>\n",
       "  <tbody>\n",
       "    <tr>\n",
       "      <th>C(region)</th>\n",
       "      <td>3.0</td>\n",
       "      <td>1.300760e+09</td>\n",
       "      <td>4.335866e+08</td>\n",
       "      <td>2.9696</td>\n",
       "      <td>0.0309</td>\n",
       "    </tr>\n",
       "    <tr>\n",
       "      <th>Residual</th>\n",
       "      <td>1334.0</td>\n",
       "      <td>1.947735e+11</td>\n",
       "      <td>1.460071e+08</td>\n",
       "      <td>NaN</td>\n",
       "      <td>NaN</td>\n",
       "    </tr>\n",
       "  </tbody>\n",
       "</table>\n",
       "</div>"
      ],
      "text/plain": [
       "               df        sum_sq       mean_sq       F  PR(>F)\n",
       "C(region)     3.0  1.300760e+09  4.335866e+08  2.9696  0.0309\n",
       "Residual   1334.0  1.947735e+11  1.460071e+08     NaN     NaN"
      ]
     },
     "execution_count": 46,
     "metadata": {},
     "output_type": "execute_result"
    }
   ],
   "source": [
    "## Create a formula to explain charges using the category of \"region\"\n",
    "f = \"charges ~ C(region)\"\n",
    "\n",
    "## Make and fit an ols model \n",
    "model = smf.ols(f,data=df).fit()\n",
    "\n",
    "# Use statsmodels anova_lm function with the model \n",
    "results = sm.stats.anova_lm(model)\n",
    "results.round(4)"
   ]
  },
  {
   "cell_type": "markdown",
   "metadata": {
    "ExecuteTime": {
     "end_time": "2021-10-26T22:24:32.962085Z",
     "start_time": "2021-10-26T22:24:32.931155Z"
    }
   },
   "source": [
    "### Posthoc Multiple Comparison Test: Determine which pairs of groups were different"
   ]
  },
  {
   "cell_type": "code",
   "execution_count": 38,
   "metadata": {
    "ExecuteTime": {
     "end_time": "2021-11-03T22:31:01.788581Z",
     "start_time": "2021-11-03T22:31:01.728163Z"
    }
   },
   "outputs": [],
   "source": [
    "from statsmodels.stats.multicomp import pairwise_tukeyhsd\n",
    "## save the charges column as values and the region as labels\n",
    "\n",
    "values = df['charges']\n",
    "labels = df['region']"
   ]
  },
  {
   "cell_type": "code",
   "execution_count": 40,
   "metadata": {
    "ExecuteTime": {
     "end_time": "2021-11-03T22:31:30.212941Z",
     "start_time": "2021-11-03T22:31:29.976063Z"
    }
   },
   "outputs": [
    {
     "data": {
      "text/html": [
       "<table class=\"simpletable\">\n",
       "<caption>Multiple Comparison of Means - Tukey HSD, FWER=0.05</caption>\n",
       "<tr>\n",
       "   <th>group1</th>    <th>group2</th>    <th>meandiff</th>   <th>p-adj</th>    <th>lower</th>     <th>upper</th>   <th>reject</th>\n",
       "</tr>\n",
       "<tr>\n",
       "  <td>northeast</td> <td>northwest</td>  <td>-988.8091</td> <td>0.7002</td> <td>-3428.9473</td> <td>1451.329</td>   <td>False</td>\n",
       "</tr>\n",
       "<tr>\n",
       "  <td>northeast</td> <td>southeast</td>  <td>1329.0269</td> <td>0.4754</td> <td>-1044.9543</td> <td>3703.0081</td>  <td>False</td>\n",
       "</tr>\n",
       "<tr>\n",
       "  <td>northeast</td> <td>southwest</td> <td>-1059.4471</td> <td>0.6584</td> <td>-3499.5853</td> <td>1380.691</td>   <td>False</td>\n",
       "</tr>\n",
       "<tr>\n",
       "  <td>northwest</td> <td>southeast</td>  <td>2317.8361</td> <td>0.0583</td>   <td>-54.212</td>  <td>4689.8842</td>  <td>False</td>\n",
       "</tr>\n",
       "<tr>\n",
       "  <td>northwest</td> <td>southwest</td>   <td>-70.638</td>    <td>0.9</td>  <td>-2508.8955</td> <td>2367.6195</td>  <td>False</td>\n",
       "</tr>\n",
       "<tr>\n",
       "  <td>southeast</td> <td>southwest</td> <td>-2388.4741</td> <td>0.0477</td> <td>-4760.5221</td>  <td>-16.426</td>   <td>True</td> \n",
       "</tr>\n",
       "</table>"
      ],
      "text/plain": [
       "<class 'statsmodels.iolib.table.SimpleTable'>"
      ]
     },
     "execution_count": 40,
     "metadata": {},
     "output_type": "execute_result"
    }
   ],
   "source": [
    "## perform tukey's multiple comparison test and display the summary\n",
    "result = pairwise_tukeyhsd(values, labels)\n",
    "result.summary()"
   ]
  },
  {
   "cell_type": "code",
   "execution_count": 44,
   "metadata": {
    "ExecuteTime": {
     "end_time": "2021-11-03T22:34:30.216704Z",
     "start_time": "2021-11-03T22:34:29.963571Z"
    }
   },
   "outputs": [
    {
     "data": {
      "text/plain": [
       "<AxesSubplot:xlabel='region', ylabel='charges'>"
      ]
     },
     "execution_count": 44,
     "metadata": {},
     "output_type": "execute_result"
    },
    {
     "data": {
      "image/png": "[encoded data removed]",
      "text/plain": [
       "<Figure size 432x288 with 1 Axes>"
      ]
     },
     "metadata": {
      "needs_background": "light"
     },
     "output_type": "display_data"
    }
   ],
   "source": [
    "sns.barplot(data=df,x='region',y='charges',ci=68)"
   ]
  },
  {
   "cell_type": "code",
   "execution_count": 45,
   "metadata": {
    "ExecuteTime": {
     "end_time": "2021-11-03T22:37:03.131342Z",
     "start_time": "2021-11-03T22:37:02.817517Z"
    }
   },
   "outputs": [
    {
     "data": {
      "text/plain": [
       "<AxesSubplot:xlabel='region', ylabel='count'>"
      ]
     },
     "execution_count": 45,
     "metadata": {},
     "output_type": "execute_result"
    },
    {
     "data": {
      "image/png": "[encoded data removed]",
      "text/plain": [
       "<Figure size 432x288 with 1 Axes>"
      ]
     },
     "metadata": {
      "needs_background": "light"
     },
     "output_type": "display_data"
    }
   ],
   "source": [
    "sns.countplot(data=df,x='region')"
   ]
  },
  {
   "cell_type": "code",
   "execution_count": 42,
   "metadata": {
    "ExecuteTime": {
     "end_time": "2021-11-03T22:32:31.795717Z",
     "start_time": "2021-11-03T22:32:31.577272Z"
    }
   },
   "outputs": [
    {
     "data": {
      "image/png": "[encoded data removed]",
      "text/plain": [
       "<Figure size 720x432 with 1 Axes>"
      ]
     },
     "metadata": {
      "needs_background": "light"
     },
     "output_type": "display_data"
    }
   ],
   "source": [
    "result.plot_simultaneous();"
   ]
  },
  {
   "cell_type": "markdown",
   "metadata": {},
   "source": [
    "### Conclusion/Interpretation"
   ]
  },
  {
   "cell_type": "code",
   "execution_count": null,
   "metadata": {
    "ExecuteTime": {
     "end_time": "2021-10-27T18:47:36.894242Z",
     "start_time": "2021-10-27T18:47:36.641680Z"
    }
   },
   "outputs": [],
   "source": [
    "## Make a barplot using ci=68 (Standard Error of the Mean)\n"
   ]
  },
  {
   "cell_type": "markdown",
   "metadata": {},
   "source": [
    ">- `Conclusion goes here.`"
   ]
  },
  {
   "cell_type": "markdown",
   "metadata": {},
   "source": [
    "## [Level Up]: Q4: Do insurance companies charge smokers vs non-smokers different amounts for men vs women?"
   ]
  },
  {
   "cell_type": "markdown",
   "metadata": {},
   "source": [
    "#### Formally State the Hypothesis\n",
    "- $H_1$ : \n",
    "- $H_0$ : "
   ]
  },
  {
   "cell_type": "markdown",
   "metadata": {},
   "source": [
    "#### Determine the Correct Statistical Test "
   ]
  },
  {
   "cell_type": "markdown",
   "metadata": {},
   "source": [
    "- Q1: What type of data are we comparing?\n",
    "    - A:\n",
    "    \n",
    "    \n",
    "- Q2: How many samples/groups are being compared?\n",
    "    - A: \n",
    "    \n",
    "    \n",
    "<!-- - Therefore, the correct test to perform would be...??? -->\n",
    "\n",
    "\n",
    "<details>\n",
    "    <summary style='font-weight:bold;'>> Therefore, the correct test to perform would be... (click to expand) </summary>\n",
    "   <ul>\n",
    "       <li style=\"font-weight:bold;\">A: Two-Way ANOVA!  https://www.statology.org/two-way-anova-python/</li>\n",
    "    </ul>\n",
    "</details>\n"
   ]
  },
  {
   "cell_type": "code",
   "execution_count": null,
   "metadata": {
    "ExecuteTime": {
     "end_time": "2021-10-27T18:59:38.844229Z",
     "start_time": "2021-10-27T18:59:38.842077Z"
    }
   },
   "outputs": [],
   "source": [
    "## Visualzie the average charges for smokers vs non-smokers, separated by sex\n"
   ]
  },
  {
   "cell_type": "code",
   "execution_count": 48,
   "metadata": {
    "ExecuteTime": {
     "end_time": "2021-11-03T22:41:28.552486Z",
     "start_time": "2021-11-03T22:41:28.483171Z"
    }
   },
   "outputs": [
    {
     "data": {
      "text/html": [
       "<div>\n",
       "<style scoped>\n",
       "    .dataframe tbody tr th:only-of-type {\n",
       "        vertical-align: middle;\n",
       "    }\n",
       "\n",
       "    .dataframe tbody tr th {\n",
       "        vertical-align: top;\n",
       "    }\n",
       "\n",
       "    .dataframe thead th {\n",
       "        text-align: right;\n",
       "    }\n",
       "</style>\n",
       "<table border=\"1\" class=\"dataframe\">\n",
       "  <thead>\n",
       "    <tr style=\"text-align: right;\">\n",
       "      <th></th>\n",
       "      <th>df</th>\n",
       "      <th>sum_sq</th>\n",
       "      <th>mean_sq</th>\n",
       "      <th>F</th>\n",
       "      <th>PR(&gt;F)</th>\n",
       "    </tr>\n",
       "  </thead>\n",
       "  <tbody>\n",
       "    <tr>\n",
       "      <th>C(sex)</th>\n",
       "      <td>1.0</td>\n",
       "      <td>6.435902e+08</td>\n",
       "      <td>6.435902e+08</td>\n",
       "      <td>11.5246</td>\n",
       "      <td>0.0007</td>\n",
       "    </tr>\n",
       "    <tr>\n",
       "      <th>C(smoker)</th>\n",
       "      <td>1.0</td>\n",
       "      <td>1.208777e+11</td>\n",
       "      <td>1.208777e+11</td>\n",
       "      <td>2164.5272</td>\n",
       "      <td>0.0000</td>\n",
       "    </tr>\n",
       "    <tr>\n",
       "      <th>Residual</th>\n",
       "      <td>1335.0</td>\n",
       "      <td>7.455290e+10</td>\n",
       "      <td>5.584487e+07</td>\n",
       "      <td>NaN</td>\n",
       "      <td>NaN</td>\n",
       "    </tr>\n",
       "  </tbody>\n",
       "</table>\n",
       "</div>"
      ],
      "text/plain": [
       "               df        sum_sq       mean_sq          F  PR(>F)\n",
       "C(sex)        1.0  6.435902e+08  6.435902e+08    11.5246  0.0007\n",
       "C(smoker)     1.0  1.208777e+11  1.208777e+11  2164.5272  0.0000\n",
       "Residual   1335.0  7.455290e+10  5.584487e+07        NaN     NaN"
      ]
     },
     "execution_count": 48,
     "metadata": {},
     "output_type": "execute_result"
    }
   ],
   "source": [
    "## Create a formula to explain charges using the category of \"region\"\n",
    "f = \"charges ~ C(sex) + C(smoker)\"\n",
    "\n",
    "## Make and fit an ols model \n",
    "model = smf.ols(f,data=df).fit()\n",
    "\n",
    "# Use statsmodels anova_lm function with the model \n",
    "results = sm.stats.anova_lm(model)\n",
    "results.round(4)"
   ]
  },
  {
   "cell_type": "code",
   "execution_count": 54,
   "metadata": {
    "ExecuteTime": {
     "end_time": "2021-11-03T22:44:24.673777Z",
     "start_time": "2021-11-03T22:44:24.322423Z"
    }
   },
   "outputs": [
    {
     "data": {
      "text/plain": [
       "<AxesSubplot:xlabel='smoker', ylabel='charges'>"
      ]
     },
     "execution_count": 54,
     "metadata": {},
     "output_type": "execute_result"
    },
    {
     "data": {
      "image/png": "[encoded data removed]",
      "text/plain": [
       "<Figure size 1440x1440 with 1 Axes>"
      ]
     },
     "metadata": {
      "needs_background": "light"
     },
     "output_type": "display_data"
    }
   ],
   "source": [
    "plt.figure(figsize=(20,20))\n",
    "sns.barplot(data=df,hue='sex',y='charges',x='smoker',ci=68)"
   ]
  },
  {
   "cell_type": "code",
   "execution_count": null,
   "metadata": {
    "ExecuteTime": {
     "end_time": "2021-10-27T18:47:37.243436Z",
     "start_time": "2021-10-27T18:47:37.205015Z"
    }
   },
   "outputs": [],
   "source": [
    "## interpret the p-value for smokers\n",
    "p_smoker = None\n"
   ]
  },
  {
   "cell_type": "code",
   "execution_count": null,
   "metadata": {
    "ExecuteTime": {
     "end_time": "2021-10-27T18:47:37.284240Z",
     "start_time": "2021-10-27T18:47:37.245293Z"
    }
   },
   "outputs": [],
   "source": [
    "## is the p-value for smoker significant?\n"
   ]
  },
  {
   "cell_type": "code",
   "execution_count": null,
   "metadata": {
    "ExecuteTime": {
     "end_time": "2021-10-27T18:47:37.325963Z",
     "start_time": "2021-10-27T18:47:37.286312Z"
    }
   },
   "outputs": [],
   "source": [
    "##HOW significant?\n"
   ]
  },
  {
   "cell_type": "code",
   "execution_count": null,
   "metadata": {
    "ExecuteTime": {
     "end_time": "2021-10-27T18:47:37.367190Z",
     "start_time": "2021-10-27T18:47:37.327856Z"
    }
   },
   "outputs": [],
   "source": [
    "## interpret the p-value for sex\n",
    "p_sex = None\n"
   ]
  },
  {
   "cell_type": "code",
   "execution_count": null,
   "metadata": {
    "ExecuteTime": {
     "end_time": "2021-10-27T18:47:37.410253Z",
     "start_time": "2021-10-27T18:47:37.369168Z"
    }
   },
   "outputs": [],
   "source": [
    "## is the p-value for sex significant?\n"
   ]
  },
  {
   "cell_type": "markdown",
   "metadata": {},
   "source": [
    "### Conclusion"
   ]
  },
  {
   "cell_type": "code",
   "execution_count": null,
   "metadata": {
    "ExecuteTime": {
     "end_time": "2021-10-27T18:47:37.665594Z",
     "start_time": "2021-10-27T18:47:37.412345Z"
    }
   },
   "outputs": [],
   "source": [
    "## Visualzie the average charges for males vs females, separated by smokers\n"
   ]
  },
  {
   "cell_type": "markdown",
   "metadata": {},
   "source": [
    ">- `Conclusion goes here.`"
   ]
  },
  {
   "cell_type": "markdown",
   "metadata": {},
   "source": [
    "# Conclusion/Recap"
   ]
  },
  {
   "cell_type": "markdown",
   "metadata": {},
   "source": [
    "- Today we walked through testing several hypothesis that required different statistical tests. \n",
    "- We walked through setting our hypothesis and null hypothesis.\n",
    "- We then selected the right test based upon the type of data we were using and how many groups we were comparing. \n",
    "\n",
    "- We performed the chosen test, interpreted the p-value, and performed posthoc tests as needed.\n",
    "\n",
    "\n",
    "- We learned that there are more advanced statistical tests than what is included in the curriculum.\n"
   ]
  },
  {
   "cell_type": "markdown",
   "metadata": {},
   "source": [
    "# APPENDIX"
   ]
  },
  {
   "cell_type": "markdown",
   "metadata": {},
   "source": [
    "## Your Turn! Think of another Hypothesis to test."
   ]
  },
  {
   "cell_type": "markdown",
   "metadata": {},
   "source": [
    "- example: Is our sample's BMI representative of the the national average BMI? (See the pdf in the data folder for the stats)"
   ]
  },
  {
   "cell_type": "markdown",
   "metadata": {},
   "source": [
    "#### Formally State the Hypothesis\n",
    "- $H_1$ :\n",
    "- $H_0$ : "
   ]
  },
  {
   "cell_type": "markdown",
   "metadata": {},
   "source": [
    "#### Determine the Correct Statistical Test "
   ]
  },
  {
   "cell_type": "markdown",
   "metadata": {},
   "source": [
    "- Q1: What type of data are we comparing?\n",
    "    - A: |\n",
    "    \n",
    "    \n",
    "- Q2: How many samples/groups are being compared?\n",
    "    - A: \n",
    "    \n",
    "    \n",
    "- Therefore, the correct test to perform would be:\n",
    "    - A:"
   ]
  },
  {
   "cell_type": "code",
   "execution_count": null,
   "metadata": {},
   "outputs": [],
   "source": []
  }
 ],
 "metadata": {
  "kernelspec": {
   "display_name": "Python (learn-env)",
   "language": "python",
   "name": "learn-env"
  },
  "language_info": {
   "codemirror_mode": {
    "name": "ipython",
    "version": 3
   },
   "file_extension": ".py",
   "mimetype": "text/x-python",
   "name": "python",
   "nbconvert_exporter": "python",
   "pygments_lexer": "ipython3",
   "version": "3.8.5"
  },
  "toc": {
   "base_numbering": 1,
   "nav_menu": {},
   "number_sections": true,
   "sideBar": true,
   "skip_h1_title": false,
   "title_cell": "Table of Contents",
   "title_sidebar": "Contents",
   "toc_cell": false,
   "toc_position": {
    "height": "calc(100% - 180px)",
    "left": "10px",
    "top": "150px",
    "width": "256px"
   },
   "toc_section_display": true,
   "toc_window_display": true
  }
 },
 "nbformat": 4,
 "nbformat_minor": 4
}
