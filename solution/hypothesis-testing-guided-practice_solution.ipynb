{
 "cells": [
  {
   "cell_type": "markdown",
   "metadata": {},
   "source": [
    "# Hypothesis Testing - Guided Practice"
   ]
  },
  {
   "cell_type": "markdown",
   "metadata": {},
   "source": [
    "- ds-flex \n",
    "- xx/xx/xx"
   ]
  },
  {
   "cell_type": "markdown",
   "metadata": {},
   "source": [
    "# 📚Hypothesis Testing Steps"
   ]
  },
  {
   "cell_type": "markdown",
   "metadata": {},
   "source": [
    "<img src=\"https://raw.githubusercontent.com/learn-co-curriculum/dsc-experimental-design/master/images/new_the-scientific-method.png\" width=50%>"
   ]
  },
  {
   "cell_type": "markdown",
   "metadata": {},
   "source": [
    "## Overview"
   ]
  },
  {
   "cell_type": "markdown",
   "metadata": {},
   "source": [
    "1. State the null hypothesis ($H_0$) and the alternative hypothesis ($H_A$ or $H_1$)\n",
    "\n",
    "\n",
    "2. Determine the correct test to perform.\n",
    "    - What test is appropriate for your hypothesis?\n",
    "    - What value should we use for $\\alpha$? (e.g.: .05, .01,.001 ?)\n",
    "    \n",
    "    \n",
    "3. Prepare the data and perform the selected test. \n",
    "\n",
    "4. Interpret the resulting p-value (reject or fail to reject the null hypothesis) \n",
    "\n",
    "5. Perform posthoc tests (if necessary)"
   ]
  },
  {
   "cell_type": "markdown",
   "metadata": {},
   "source": [
    "### STEP 1: State Your Hypothesis & Null Hypothesis "
   ]
  },
  {
   "cell_type": "markdown",
   "metadata": {},
   "source": [
    "- **Before selecting the correct hypothesis test, you must first officially state your null hypothesis ($H_0$) and alternative hypothesis ($H_A$ or $H_1$)**\n",
    "\n",
    "\n",
    "\n",
    "- **Before stating your hypotheses, ask yourself:**\n",
    "    1. What question am I attempting to answer?\n",
    "    2. What metric/value am I measuring to answer this question?\n",
    "    3. Do I expect the groups to be different in a specific way? (i.e. one group greater than the other).\n",
    "        - Or do I just think they'll be different, but don't know how?\n"
   ]
  },
  {
   "cell_type": "markdown",
   "metadata": {},
   "source": [
    "### STEP 2: Determine the correct test for the data/hypothesis\n",
    "\n",
    "<!-- based on data type and # of samples/groups -->"
   ]
  },
  {
   "cell_type": "markdown",
   "metadata": {},
   "source": [
    "#### Q1: What type of data am I measuring? Is it numeric or categorical?\n",
    "\n",
    "\n",
    "#### Q2: How many groups/samples am I comparing?\n",
    "- One group vs a known value?\n",
    "- Two groups?\n",
    "- More than two groups?\n",
    "\n",
    "\n",
    "#### Using the answers to the above 2 questions: select the type of test from this table.\n",
    "\n",
    "|*What type of comparison?* | Numeric Data | Categorical Data|\n",
    "| --- | --- | --- |\n",
    "|**1 Sample vs Known Quantity/Target**|1 Sample T-Test| Binomial Test|\n",
    "|**2 Samples** | 2 Sample T-Test| Chi-Square|\n",
    "|**More than 2**| ANOVA and/or Tukey | Chi Square|\n",
    "\n",
    "\n",
    "#### What probability will we use as our significance cutoff?\n",
    "\n",
    "- Set your $\\alpha$ level (typically $\\alpha$ =.05)\n",
    "    - How rare should the value be before we consider it to be an outlier/statistically significantly different?\n",
    "\n",
    "<img src=\"../images/normal_sd_new.png\" width=\"500\">\n"
   ]
  },
  {
   "cell_type": "markdown",
   "metadata": {},
   "source": [
    "### STEP 3: Perform the test"
   ]
  },
  {
   "cell_type": "markdown",
   "metadata": {},
   "source": [
    "#### Hypothesis Testing Functions\n",
    "\n",
    "```python\n",
    "from scipy import stats\n",
    "```\n",
    "\n",
    "| Hypothesis test|Scipy Function | \n",
    " | --- | --- |\n",
    " | **1-sample t-test** |`stats.ttest_1samp()`|\n",
    " | **2-sample t-test** |`stats.ttest_ind()` | \n",
    " | **One-Way ANOVA** | `stats.f_oneway()` | \n",
    " | **Binomial test** |`stats.binom_test()` |\n",
    " | **Chi-Square test** | `stats.chi2_contingency()`|\n",
    " \n",
    " \n",
    "\n",
    "- **Perform the test to get your test-statistic and the associated p-value.**"
   ]
  },
  {
   "cell_type": "markdown",
   "metadata": {},
   "source": [
    "### STEP 4: Interpret the test result and perform any post-hoc test"
   ]
  },
  {
   "cell_type": "markdown",
   "metadata": {},
   "source": [
    "\n",
    "\n",
    "#### Interpret your p-value compared to $\\alpha$\n",
    "\n",
    "\n",
    "- **If p > $\\alpha$:**:\n",
    "    - We fail to reject the null hypothesis.\n",
    "        - The observed difference likely occurred due to random chance, not do to the effect we were analyzing.\n",
    "        - We have essentially disproved our hypothesis.\n",
    "    - The result is not significant.\n",
    "    \n",
    "    \n",
    "- **If p is < $\\alpha$:**\n",
    "    - We reject the null hypothesis. \n",
    "        - The observed difference was most likely NOT due to random chance.\n",
    "        - We have \"supported\" our hypothesis. (we NEVER \"prove\" our hypothesis)\n",
    "    - The result is significant.\n",
    "\n",
    "\n",
    "<img src=\"https://imgs.xkcd.com/comics/p_values.png\">\n",
    "\n",
    "#### Next Steps \n",
    "- **If we did not have significant results:**\n",
    "    - We are done! Write up the final answer. \n",
    "    \n",
    "- **If we had significant results:**\n",
    "\n",
    "    - If there are 2 groups:\n",
    "        - Use a visualization to confirm which group had the larger/smaller value. (e.g. a barplot).\n",
    "        - Calculate effect size (e.g. Cohen's $d$)\n",
    "        - Write up the final answer.\n",
    "\n",
    "    - If there are >2 groups:\n",
    "        - Run a pairwise multiple-comparison test (e.g. Tukey's test) to determine which groups were different.\n",
    "            - [Tukey pairwise comparison test](https://www.statsmodels.org/stable/generated/statsmodels.stats.multicomp.pairwise_tukeyhsd.html) (`statsmodels.stats.multicomp.pairwise_tukeyhsd`)\n",
    "\n",
    "\n",
    "- Report statistical power (optional)\n",
    "\n",
    "#### Post-Hoc Functions:\n",
    "\n",
    "| Post-Hoc Tests/Calculatons|Function|\n",
    "|--- | --- |\n",
    "|**Tukey's Pairwise Comparisons** | `statsmodels.stats.multicomp.pairwise_tukeyhsd`|\n",
    "|**Effect Size**| `Cohens_d`|\n",
    "|**Statistical Power** | `statsmodels.stats.power`:<br>  `TTestIndPower` , `TTestPower`"
   ]
  },
  {
   "cell_type": "markdown",
   "metadata": {},
   "source": [
    "## Resources "
   ]
  },
  {
   "cell_type": "markdown",
   "metadata": {},
   "source": [
    "- See the included [Hypothesis Testing Slide Deck](https://github.com/flatiron-school/ds-flex-hypothesis-testing-guided-practice/blob/main/resources/Hypothesis%20Testing%20with%20SciPy_codeacademy%20slides.pdf) for a recap of the process.\n",
    "\n",
    "- See the included [Hypothesis Testing with Scipy Cheatsheet](https://github.com/flatiron-school/ds-flex-hypothesis-testing-guided-practice/blob/main/resources/hypothesis-testing-with-scipy%20cheatsheet.pdf)\n",
    "\n",
    "- Both are also included in the `resources` folder, as well"
   ]
  },
  {
   "cell_type": "markdown",
   "metadata": {},
   "source": [
    "# 🕹Activity: Hypothesis Testing with Insurance Data"
   ]
  },
  {
   "cell_type": "code",
   "execution_count": 1,
   "metadata": {
    "ExecuteTime": {
     "end_time": "2021-10-27T18:49:38.484819Z",
     "start_time": "2021-10-27T18:49:36.806670Z"
    }
   },
   "outputs": [],
   "source": [
    "## import the standard packages\n",
    "import pandas as pd\n",
    "import numpy as np\n",
    "import seaborn as sns\n",
    "import matplotlib.pyplot as plt\n",
    "\n",
    "\n",
    "## import hypothesis testing functions\n",
    "from scipy import stats\n",
    "\n",
    "import statsmodels.api as sm\n",
    "import statsmodels.formula.api as smf\n",
    "\n",
    "\n",
    "%load_ext autoreload\n",
    "%autoreload 2\n",
    "import sys\n",
    "sys.path.append('../')\n",
    "import functions as fn"
   ]
  },
  {
   "cell_type": "markdown",
   "metadata": {},
   "source": [
    "## US Health Insurance Dataset"
   ]
  },
  {
   "cell_type": "markdown",
   "metadata": {},
   "source": [
    "- https://www.kaggle.com/teertha/ushealthinsurancedataset"
   ]
  },
  {
   "cell_type": "code",
   "execution_count": 2,
   "metadata": {
    "ExecuteTime": {
     "end_time": "2021-10-27T18:49:38.542811Z",
     "start_time": "2021-10-27T18:49:38.486974Z"
    }
   },
   "outputs": [
    {
     "data": {
      "text/html": [
       "<div>\n",
       "<style scoped>\n",
       "    .dataframe tbody tr th:only-of-type {\n",
       "        vertical-align: middle;\n",
       "    }\n",
       "\n",
       "    .dataframe tbody tr th {\n",
       "        vertical-align: top;\n",
       "    }\n",
       "\n",
       "    .dataframe thead th {\n",
       "        text-align: right;\n",
       "    }\n",
       "</style>\n",
       "<table border=\"1\" class=\"dataframe\">\n",
       "  <thead>\n",
       "    <tr style=\"text-align: right;\">\n",
       "      <th></th>\n",
       "      <th>age</th>\n",
       "      <th>sex</th>\n",
       "      <th>bmi</th>\n",
       "      <th>children</th>\n",
       "      <th>smoker</th>\n",
       "      <th>region</th>\n",
       "      <th>charges</th>\n",
       "    </tr>\n",
       "  </thead>\n",
       "  <tbody>\n",
       "    <tr>\n",
       "      <th>0</th>\n",
       "      <td>19</td>\n",
       "      <td>female</td>\n",
       "      <td>27.900</td>\n",
       "      <td>0</td>\n",
       "      <td>yes</td>\n",
       "      <td>southwest</td>\n",
       "      <td>16884.92400</td>\n",
       "    </tr>\n",
       "    <tr>\n",
       "      <th>1</th>\n",
       "      <td>18</td>\n",
       "      <td>male</td>\n",
       "      <td>33.770</td>\n",
       "      <td>1</td>\n",
       "      <td>no</td>\n",
       "      <td>southeast</td>\n",
       "      <td>1725.55230</td>\n",
       "    </tr>\n",
       "    <tr>\n",
       "      <th>2</th>\n",
       "      <td>28</td>\n",
       "      <td>male</td>\n",
       "      <td>33.000</td>\n",
       "      <td>3</td>\n",
       "      <td>no</td>\n",
       "      <td>southeast</td>\n",
       "      <td>4449.46200</td>\n",
       "    </tr>\n",
       "    <tr>\n",
       "      <th>3</th>\n",
       "      <td>33</td>\n",
       "      <td>male</td>\n",
       "      <td>22.705</td>\n",
       "      <td>0</td>\n",
       "      <td>no</td>\n",
       "      <td>northwest</td>\n",
       "      <td>21984.47061</td>\n",
       "    </tr>\n",
       "    <tr>\n",
       "      <th>4</th>\n",
       "      <td>32</td>\n",
       "      <td>male</td>\n",
       "      <td>28.880</td>\n",
       "      <td>0</td>\n",
       "      <td>no</td>\n",
       "      <td>northwest</td>\n",
       "      <td>3866.85520</td>\n",
       "    </tr>\n",
       "  </tbody>\n",
       "</table>\n",
       "</div>"
      ],
      "text/plain": [
       "   age     sex     bmi  children smoker     region      charges\n",
       "0   19  female  27.900         0    yes  southwest  16884.92400\n",
       "1   18    male  33.770         1     no  southeast   1725.55230\n",
       "2   28    male  33.000         3     no  southeast   4449.46200\n",
       "3   33    male  22.705         0     no  northwest  21984.47061\n",
       "4   32    male  28.880         0     no  northwest   3866.85520"
      ]
     },
     "metadata": {},
     "output_type": "display_data"
    },
    {
     "name": "stdout",
     "output_type": "stream",
     "text": [
      "<class 'pandas.core.frame.DataFrame'>\n",
      "RangeIndex: 1338 entries, 0 to 1337\n",
      "Data columns (total 7 columns):\n",
      " #   Column    Non-Null Count  Dtype  \n",
      "---  ------    --------------  -----  \n",
      " 0   age       1338 non-null   int64  \n",
      " 1   sex       1338 non-null   object \n",
      " 2   bmi       1338 non-null   float64\n",
      " 3   children  1338 non-null   int64  \n",
      " 4   smoker    1338 non-null   object \n",
      " 5   region    1338 non-null   object \n",
      " 6   charges   1338 non-null   float64\n",
      "dtypes: float64(2), int64(2), object(3)\n",
      "memory usage: 73.3+ KB\n"
     ]
    }
   ],
   "source": [
    "# Load in the insurance.csv in the data folder and display preview\n",
    "df = pd.read_csv(\"../data/insurance.csv\")\n",
    "display(df.head())\n",
    "df.info()"
   ]
  },
  {
   "cell_type": "markdown",
   "metadata": {},
   "source": [
    "### Questions to Answer"
   ]
  },
  {
   "cell_type": "markdown",
   "metadata": {},
   "source": [
    ">- Q1. Do smokers have higher insurance charges than non-smokers?\n",
    ">- Q2. Are women and men equally likely to be smokers?\n",
    ">- Q3. Do different regions have different charges, on average?\n",
    ">- [Level Up]: Q4: Do insurance companies charge smokers vs non-smokers different amounts for men vs women?"
   ]
  },
  {
   "cell_type": "markdown",
   "metadata": {},
   "source": [
    "## Q1: Do smokers have higher insurance charges than non-smokers?"
   ]
  },
  {
   "cell_type": "markdown",
   "metadata": {},
   "source": [
    "#### Formally State the Hypothesis"
   ]
  },
  {
   "cell_type": "markdown",
   "metadata": {},
   "source": [
    "- $H_1$ : Smokers have higher charges than non-smokers.\n",
    "\n",
    "- $H_0$ : Smokers and non-smokers are charged the same. "
   ]
  },
  {
   "cell_type": "markdown",
   "metadata": {},
   "source": [
    "#### Determine the Correct Statistical Test "
   ]
  },
  {
   "cell_type": "markdown",
   "metadata": {},
   "source": [
    "- Q1: What type of data are we comparing?\n",
    "    - A: Numeric (charges)\n",
    "    \n",
    "    \n",
    "- Q2: How many samples/groups are being compared?\n",
    "    - A: 2 smokers vs. non-smokers\n",
    "    \n",
    "    \n",
    "- Therefore, the correct test to perform would be:\n",
    "    - A: 2-sample T-Test"
   ]
  },
  {
   "cell_type": "code",
   "execution_count": 3,
   "metadata": {
    "ExecuteTime": {
     "end_time": "2021-10-27T18:49:39.098678Z",
     "start_time": "2021-10-27T18:49:38.545136Z"
    }
   },
   "outputs": [
    {
     "data": {
      "image/png": "[encoded data removed]",
      "text/plain": [
       "<Figure size 593.25x360 with 1 Axes>"
      ]
     },
     "metadata": {
      "needs_background": "light"
     },
     "output_type": "display_data"
    }
   ],
   "source": [
    "## let's visualize the distribution of charges for smokers and non-smokers\n",
    "g = sns.displot(data=df,hue='smoker',x='charges',aspect=1.5)"
   ]
  },
  {
   "cell_type": "code",
   "execution_count": 4,
   "metadata": {
    "ExecuteTime": {
     "end_time": "2021-10-27T18:49:39.307356Z",
     "start_time": "2021-10-27T18:49:39.102752Z"
    }
   },
   "outputs": [
    {
     "data": {
      "image/png": "[encoded data removed]",
      "text/plain": [
       "<Figure size 432x288 with 1 Axes>"
      ]
     },
     "metadata": {
      "needs_background": "light"
     },
     "output_type": "display_data"
    }
   ],
   "source": [
    "## let's visualize the average charges for smokers and non-smokers\n",
    "sns.barplot(data=df,x='smoker',y='charges',ci=68);"
   ]
  },
  {
   "cell_type": "code",
   "execution_count": 5,
   "metadata": {
    "ExecuteTime": {
     "end_time": "2021-10-27T18:49:39.351350Z",
     "start_time": "2021-10-27T18:49:39.309253Z"
    }
   },
   "outputs": [
    {
     "data": {
      "text/plain": [
       "0       16884.92400\n",
       "11      27808.72510\n",
       "14      39611.75770\n",
       "19      36837.46700\n",
       "23      37701.87680\n",
       "           ...     \n",
       "1313    36397.57600\n",
       "1314    18765.87545\n",
       "1321    28101.33305\n",
       "1323    43896.37630\n",
       "1337    29141.36030\n",
       "Name: charges, Length: 274, dtype: float64"
      ]
     },
     "execution_count": 5,
     "metadata": {},
     "output_type": "execute_result"
    }
   ],
   "source": [
    "## save all charges for smokers in a new smokers variable\n",
    "smokers = df.loc[ df['smoker']=='yes','charges']\n",
    "smokers"
   ]
  },
  {
   "cell_type": "code",
   "execution_count": 6,
   "metadata": {
    "ExecuteTime": {
     "end_time": "2021-10-27T18:49:39.398811Z",
     "start_time": "2021-10-27T18:49:39.353684Z"
    }
   },
   "outputs": [
    {
     "data": {
      "text/plain": [
       "1        1725.55230\n",
       "2        4449.46200\n",
       "3       21984.47061\n",
       "4        3866.85520\n",
       "5        3756.62160\n",
       "           ...     \n",
       "1332    11411.68500\n",
       "1333    10600.54830\n",
       "1334     2205.98080\n",
       "1335     1629.83350\n",
       "1336     2007.94500\n",
       "Name: charges, Length: 1064, dtype: float64"
      ]
     },
     "execution_count": 6,
     "metadata": {},
     "output_type": "execute_result"
    }
   ],
   "source": [
    "## now do the same for the non-smokers\n",
    "nonsmokers = df.loc[ df['smoker']=='no','charges']\n",
    "nonsmokers"
   ]
  },
  {
   "cell_type": "code",
   "execution_count": 7,
   "metadata": {
    "ExecuteTime": {
     "end_time": "2021-10-27T18:49:39.443226Z",
     "start_time": "2021-10-27T18:49:39.400972Z"
    }
   },
   "outputs": [
    {
     "data": {
      "text/plain": [
       "Ttest_indResult(statistic=46.664921172723716, pvalue=8.271435842177219e-283)"
      ]
     },
     "execution_count": 7,
     "metadata": {},
     "output_type": "execute_result"
    }
   ],
   "source": [
    "## Run the correct hypothesis test from scipy\n",
    "result = stats.ttest_ind(smokers,nonsmokers)\n",
    "result"
   ]
  },
  {
   "cell_type": "code",
   "execution_count": 8,
   "metadata": {
    "ExecuteTime": {
     "end_time": "2021-10-27T18:49:39.490083Z",
     "start_time": "2021-10-27T18:49:39.446994Z"
    }
   },
   "outputs": [
    {
     "data": {
      "text/plain": [
       "0.0"
      ]
     },
     "execution_count": 8,
     "metadata": {},
     "output_type": "execute_result"
    }
   ],
   "source": [
    "## interpret the p-value \n",
    "round(result.pvalue,6)"
   ]
  },
  {
   "cell_type": "code",
   "execution_count": 9,
   "metadata": {
    "ExecuteTime": {
     "end_time": "2021-10-27T18:49:39.536712Z",
     "start_time": "2021-10-27T18:49:39.493912Z"
    }
   },
   "outputs": [
    {
     "data": {
      "text/plain": [
       "True"
      ]
     },
     "execution_count": 9,
     "metadata": {},
     "output_type": "execute_result"
    }
   ],
   "source": [
    "# is the result significant?\n",
    "result.pvalue < .05"
   ]
  },
  {
   "cell_type": "code",
   "execution_count": 10,
   "metadata": {
    "ExecuteTime": {
     "end_time": "2021-10-27T18:49:39.582969Z",
     "start_time": "2021-10-27T18:49:39.539481Z"
    }
   },
   "outputs": [
    {
     "data": {
      "text/plain": [
       "True"
      ]
     },
     "execution_count": 10,
     "metadata": {},
     "output_type": "execute_result"
    }
   ],
   "source": [
    "# HOW significant? (<.01? <.001?? <.000000001???)\n",
    "result.pvalue < .0001"
   ]
  },
  {
   "cell_type": "code",
   "execution_count": 11,
   "metadata": {
    "ExecuteTime": {
     "end_time": "2021-10-27T18:49:39.632120Z",
     "start_time": "2021-10-27T18:49:39.585443Z"
    }
   },
   "outputs": [
    {
     "name": "stdout",
     "output_type": "stream",
     "text": [
      "INTERPRETATION OF COHEN's D: \n",
      "    > Small effect = 0.2\n",
      "    > Medium Effect = 0.5\n",
      "    > Large Effect = 0.8\n",
      "    \n"
     ]
    },
    {
     "data": {
      "text/plain": [
       "3.160132313169358"
      ]
     },
     "execution_count": 11,
     "metadata": {},
     "output_type": "execute_result"
    }
   ],
   "source": [
    "## calcualte the effect size using cohen's d\n",
    "d = fn.Cohen_d(smokers,nonsmokers)\n",
    "d"
   ]
  },
  {
   "cell_type": "markdown",
   "metadata": {},
   "source": [
    "### Conclusion/Interpretation"
   ]
  },
  {
   "cell_type": "code",
   "execution_count": 12,
   "metadata": {
    "ExecuteTime": {
     "end_time": "2021-10-27T18:49:39.855619Z",
     "start_time": "2021-10-27T18:49:39.634211Z"
    }
   },
   "outputs": [
    {
     "data": {
      "image/png": "[encoded data removed]",
      "text/plain": [
       "<Figure size 432x288 with 1 Axes>"
      ]
     },
     "metadata": {
      "needs_background": "light"
     },
     "output_type": "display_data"
    }
   ],
   "source": [
    "## Make a barplot of the average charges for smokers vs non-smokers\n",
    "ax = sns.barplot(data=df,x='smoker',y='charges',ci=68)"
   ]
  },
  {
   "cell_type": "markdown",
   "metadata": {},
   "source": [
    ">- Smokers have significantly higher insurance charges than non-smokers (p<.0001), with a large effect size (Cohen's d=3.16). "
   ]
  },
  {
   "cell_type": "markdown",
   "metadata": {},
   "source": [
    "## Q2: Are women and men equally likely to be smokers?"
   ]
  },
  {
   "cell_type": "markdown",
   "metadata": {},
   "source": [
    "#### Formally State the Hypothesis\n",
    "- $H_1$ : Men are more likely to smoke than women. \n",
    "\n",
    "- $H_0$ : Men and women are equally likelt to be smokers."
   ]
  },
  {
   "cell_type": "markdown",
   "metadata": {},
   "source": [
    "#### Determine the Correct Statistical Test "
   ]
  },
  {
   "cell_type": "markdown",
   "metadata": {},
   "source": [
    "- Q1: What type of data are we comparing?\n",
    "    - A:  Categorical\n",
    "    \n",
    "    \n",
    "- Q2: How many samples/groups are being compared?\n",
    "    - A:  2 samples\n",
    "    \n",
    "    \n",
    "- Therefore, the correct test to perform would be:\n",
    "    - A: Chi-Square Test"
   ]
  },
  {
   "cell_type": "code",
   "execution_count": 13,
   "metadata": {
    "ExecuteTime": {
     "end_time": "2021-10-27T18:49:40.034657Z",
     "start_time": "2021-10-27T18:49:39.857864Z"
    }
   },
   "outputs": [
    {
     "data": {
      "image/png": "[encoded data removed]",
      "text/plain": [
       "<Figure size 432x288 with 1 Axes>"
      ]
     },
     "metadata": {
      "needs_background": "light"
     },
     "output_type": "display_data"
    }
   ],
   "source": [
    "## Visualize the # of smokers by sex\n",
    "sns.countplot(data=df,x='sex',hue='smoker');"
   ]
  },
  {
   "cell_type": "code",
   "execution_count": 14,
   "metadata": {
    "ExecuteTime": {
     "end_time": "2021-10-27T18:49:40.094265Z",
     "start_time": "2021-10-27T18:49:40.036522Z"
    }
   },
   "outputs": [
    {
     "data": {
      "text/html": [
       "<div>\n",
       "<style scoped>\n",
       "    .dataframe tbody tr th:only-of-type {\n",
       "        vertical-align: middle;\n",
       "    }\n",
       "\n",
       "    .dataframe tbody tr th {\n",
       "        vertical-align: top;\n",
       "    }\n",
       "\n",
       "    .dataframe thead th {\n",
       "        text-align: right;\n",
       "    }\n",
       "</style>\n",
       "<table border=\"1\" class=\"dataframe\">\n",
       "  <thead>\n",
       "    <tr style=\"text-align: right;\">\n",
       "      <th>smoker</th>\n",
       "      <th>no</th>\n",
       "      <th>yes</th>\n",
       "    </tr>\n",
       "    <tr>\n",
       "      <th>sex</th>\n",
       "      <th></th>\n",
       "      <th></th>\n",
       "    </tr>\n",
       "  </thead>\n",
       "  <tbody>\n",
       "    <tr>\n",
       "      <th>female</th>\n",
       "      <td>547</td>\n",
       "      <td>115</td>\n",
       "    </tr>\n",
       "    <tr>\n",
       "      <th>male</th>\n",
       "      <td>517</td>\n",
       "      <td>159</td>\n",
       "    </tr>\n",
       "  </tbody>\n",
       "</table>\n",
       "</div>"
      ],
      "text/plain": [
       "smoker   no  yes\n",
       "sex             \n",
       "female  547  115\n",
       "male    517  159"
      ]
     },
     "execution_count": 14,
     "metadata": {},
     "output_type": "execute_result"
    }
   ],
   "source": [
    "## Get contingency table for smoker x sex using pd.crosstab\n",
    "observed = pd.crosstab(df['sex'],df['smoker'])\n",
    "observed"
   ]
  },
  {
   "cell_type": "code",
   "execution_count": 15,
   "metadata": {
    "ExecuteTime": {
     "end_time": "2021-10-27T18:49:40.141977Z",
     "start_time": "2021-10-27T18:49:40.096020Z"
    }
   },
   "outputs": [
    {
     "name": "stdout",
     "output_type": "stream",
     "text": [
      "0.006548143503580696\n"
     ]
    },
    {
     "data": {
      "text/plain": [
       "array([[526.43348281, 135.56651719],\n",
       "       [537.56651719, 138.43348281]])"
      ]
     },
     "execution_count": 15,
     "metadata": {},
     "output_type": "execute_result"
    }
   ],
   "source": [
    "## perform the correct test for the hypothesis\n",
    "stat,p,dof, expected =stats.chi2_contingency(observed)\n",
    "print(p)\n",
    "expected"
   ]
  },
  {
   "cell_type": "code",
   "execution_count": 16,
   "metadata": {
    "ExecuteTime": {
     "end_time": "2021-10-27T18:49:40.187673Z",
     "start_time": "2021-10-27T18:49:40.143592Z"
    }
   },
   "outputs": [
    {
     "data": {
      "text/plain": [
       "0.006548"
      ]
     },
     "execution_count": 16,
     "metadata": {},
     "output_type": "execute_result"
    }
   ],
   "source": [
    "## interpret the p-value \n",
    "round(p,6)"
   ]
  },
  {
   "cell_type": "code",
   "execution_count": 17,
   "metadata": {
    "ExecuteTime": {
     "end_time": "2021-10-27T18:49:40.233096Z",
     "start_time": "2021-10-27T18:49:40.190330Z"
    }
   },
   "outputs": [
    {
     "data": {
      "text/plain": [
       "True"
      ]
     },
     "execution_count": 17,
     "metadata": {},
     "output_type": "execute_result"
    }
   ],
   "source": [
    "# is the result significant?\n",
    "p <.05"
   ]
  },
  {
   "cell_type": "code",
   "execution_count": 18,
   "metadata": {
    "ExecuteTime": {
     "end_time": "2021-10-27T18:49:40.278830Z",
     "start_time": "2021-10-27T18:49:40.235778Z"
    }
   },
   "outputs": [
    {
     "data": {
      "text/plain": [
       "True"
      ]
     },
     "execution_count": 18,
     "metadata": {},
     "output_type": "execute_result"
    }
   ],
   "source": [
    "# HOW significant? (<.01? <.001?? <.000000001???)\n",
    "p < .01"
   ]
  },
  {
   "cell_type": "markdown",
   "metadata": {},
   "source": [
    "### Conclusion/Interpretation"
   ]
  },
  {
   "cell_type": "code",
   "execution_count": 19,
   "metadata": {
    "ExecuteTime": {
     "end_time": "2021-10-27T18:49:40.388887Z",
     "start_time": "2021-10-27T18:49:40.280929Z"
    }
   },
   "outputs": [
    {
     "data": {
      "text/html": [
       "<div>\n",
       "<style scoped>\n",
       "    .dataframe tbody tr th:only-of-type {\n",
       "        vertical-align: middle;\n",
       "    }\n",
       "\n",
       "    .dataframe tbody tr th {\n",
       "        vertical-align: top;\n",
       "    }\n",
       "\n",
       "    .dataframe thead th {\n",
       "        text-align: right;\n",
       "    }\n",
       "</style>\n",
       "<table border=\"1\" class=\"dataframe\">\n",
       "  <thead>\n",
       "    <tr style=\"text-align: right;\">\n",
       "      <th>smoker</th>\n",
       "      <th>no</th>\n",
       "      <th>yes</th>\n",
       "    </tr>\n",
       "    <tr>\n",
       "      <th>sex</th>\n",
       "      <th></th>\n",
       "      <th></th>\n",
       "    </tr>\n",
       "  </thead>\n",
       "  <tbody>\n",
       "    <tr>\n",
       "      <th>female</th>\n",
       "      <td>0.826284</td>\n",
       "      <td>0.173716</td>\n",
       "    </tr>\n",
       "    <tr>\n",
       "      <th>male</th>\n",
       "      <td>0.764793</td>\n",
       "      <td>0.235207</td>\n",
       "    </tr>\n",
       "  </tbody>\n",
       "</table>\n",
       "</div>"
      ],
      "text/plain": [
       "smoker        no       yes\n",
       "sex                       \n",
       "female  0.826284  0.173716\n",
       "male    0.764793  0.235207"
      ]
     },
     "execution_count": 19,
     "metadata": {},
     "output_type": "execute_result"
    }
   ],
   "source": [
    "# get the contigency table again, but normalzie it by sex\n",
    "pd.crosstab(df['sex'],df['smoker'],normalize='index')"
   ]
  },
  {
   "cell_type": "markdown",
   "metadata": {},
   "source": [
    ">- Men are significantly more likely to be smokers than women (p<.01)."
   ]
  },
  {
   "cell_type": "markdown",
   "metadata": {},
   "source": [
    "## Q3: Do different regions have different insurance charges?"
   ]
  },
  {
   "cell_type": "markdown",
   "metadata": {},
   "source": [
    "#### Formally State the Hypothesis\n",
    "- $H_1$ : Average insurance charges vary across regions.\n",
    "- $H_0$ : Average insurance are the same for all regions."
   ]
  },
  {
   "cell_type": "markdown",
   "metadata": {},
   "source": [
    "#### Determine the Correct Statistical Test "
   ]
  },
  {
   "cell_type": "markdown",
   "metadata": {},
   "source": [
    "- Q1: What type of data are we comparing?\n",
    "    - A: Numeric (charges)\n",
    "    \n",
    "    \n",
    "- Q2: How many samples/groups are being compared?\n",
    "    - A: >2 (4 regions)\n",
    "    \n",
    "    \n",
    "- Therefore, the correct test to perform would be:\n",
    "    - A: one-way ANOVA"
   ]
  },
  {
   "cell_type": "code",
   "execution_count": 20,
   "metadata": {
    "ExecuteTime": {
     "end_time": "2021-10-27T18:49:40.663762Z",
     "start_time": "2021-10-27T18:49:40.390810Z"
    }
   },
   "outputs": [
    {
     "data": {
      "image/png": "[encoded data removed]",
      "text/plain": [
       "<Figure size 432x288 with 1 Axes>"
      ]
     },
     "metadata": {
      "needs_background": "light"
     },
     "output_type": "display_data"
    }
   ],
   "source": [
    "## visualize the regions vs charges\n",
    "sns.barplot(data=df, x='region',y='charges');"
   ]
  },
  {
   "cell_type": "markdown",
   "metadata": {},
   "source": [
    "### Performing the ANOVA with `scipy`"
   ]
  },
  {
   "cell_type": "code",
   "execution_count": 21,
   "metadata": {
    "ExecuteTime": {
     "end_time": "2021-10-27T18:49:40.710050Z",
     "start_time": "2021-10-27T18:49:40.665527Z"
    }
   },
   "outputs": [
    {
     "data": {
      "text/plain": [
       "dict_keys(['southwest', 'southeast', 'northwest', 'northeast'])"
      ]
     },
     "execution_count": 21,
     "metadata": {},
     "output_type": "execute_result"
    }
   ],
   "source": [
    "## separate the data into groups\n",
    "groups = {}\n",
    "\n",
    "for region in df['region'].unique():\n",
    "    ## Get series for group and rename\n",
    "    data = df.loc[ df['region']==region, 'charges']\n",
    "    data.name = region\n",
    "    \n",
    "    # save into the dictionary\n",
    "    groups[region] = data\n",
    "\n",
    "groups.keys()"
   ]
  },
  {
   "cell_type": "code",
   "execution_count": 23,
   "metadata": {
    "ExecuteTime": {
     "end_time": "2021-10-27T18:49:40.806080Z",
     "start_time": "2021-10-27T18:49:40.762226Z"
    }
   },
   "outputs": [
    {
     "data": {
      "text/plain": [
       "F_onewayResult(statistic=2.9696266935891193, pvalue=0.0308933560705201)"
      ]
     },
     "execution_count": 23,
     "metadata": {},
     "output_type": "execute_result"
    }
   ],
   "source": [
    "# perform the correct hypothesis test\n",
    "# method 1 - manual slicing \n",
    "result = stats.f_oneway(groups['northeast'],\n",
    "                       groups['northwest'],\n",
    "                       groups['southeast'],\n",
    "                        groups['southwest'])\n",
    "result"
   ]
  },
  {
   "cell_type": "code",
   "execution_count": 22,
   "metadata": {
    "ExecuteTime": {
     "end_time": "2021-10-27T18:49:40.755880Z",
     "start_time": "2021-10-27T18:49:40.711838Z"
    }
   },
   "outputs": [
    {
     "data": {
      "text/plain": [
       "F_onewayResult(statistic=2.96962669358912, pvalue=0.0308933560705201)"
      ]
     },
     "execution_count": 22,
     "metadata": {},
     "output_type": "execute_result"
    }
   ],
   "source": [
    "# perform the correct hypothesis test\n",
    "# method 2 - using * to unpack\n",
    "result = stats.f_oneway(*groups.values())\n",
    "result"
   ]
  },
  {
   "cell_type": "code",
   "execution_count": 24,
   "metadata": {
    "ExecuteTime": {
     "end_time": "2021-10-27T18:49:40.876599Z",
     "start_time": "2021-10-27T18:49:40.810566Z"
    }
   },
   "outputs": [
    {
     "data": {
      "text/plain": [
       "0.030893"
      ]
     },
     "execution_count": 24,
     "metadata": {},
     "output_type": "execute_result"
    }
   ],
   "source": [
    "## interpret the p-value \n",
    "round(result.pvalue,6)"
   ]
  },
  {
   "cell_type": "code",
   "execution_count": 25,
   "metadata": {
    "ExecuteTime": {
     "end_time": "2021-10-27T18:49:40.919520Z",
     "start_time": "2021-10-27T18:49:40.879397Z"
    }
   },
   "outputs": [
    {
     "data": {
      "text/plain": [
       "True"
      ]
     },
     "execution_count": 25,
     "metadata": {},
     "output_type": "execute_result"
    }
   ],
   "source": [
    "# is the result significant?\n",
    "result.pvalue < .05"
   ]
  },
  {
   "cell_type": "code",
   "execution_count": 26,
   "metadata": {
    "ExecuteTime": {
     "end_time": "2021-10-27T18:49:40.972116Z",
     "start_time": "2021-10-27T18:49:40.922137Z"
    }
   },
   "outputs": [
    {
     "data": {
      "text/plain": [
       "False"
      ]
     },
     "execution_count": 26,
     "metadata": {},
     "output_type": "execute_result"
    }
   ],
   "source": [
    "# HOW significant? (<.01? <.001?? <.000000001???)\n",
    "result.pvalue < .01"
   ]
  },
  {
   "cell_type": "markdown",
   "metadata": {},
   "source": [
    "### Perform ANOVA with `statsmodels`"
   ]
  },
  {
   "cell_type": "code",
   "execution_count": 27,
   "metadata": {
    "ExecuteTime": {
     "end_time": "2021-10-27T18:49:41.042042Z",
     "start_time": "2021-10-27T18:49:40.974665Z"
    },
    "scrolled": true
   },
   "outputs": [
    {
     "data": {
      "text/html": [
       "<div>\n",
       "<style scoped>\n",
       "    .dataframe tbody tr th:only-of-type {\n",
       "        vertical-align: middle;\n",
       "    }\n",
       "\n",
       "    .dataframe tbody tr th {\n",
       "        vertical-align: top;\n",
       "    }\n",
       "\n",
       "    .dataframe thead th {\n",
       "        text-align: right;\n",
       "    }\n",
       "</style>\n",
       "<table border=\"1\" class=\"dataframe\">\n",
       "  <thead>\n",
       "    <tr style=\"text-align: right;\">\n",
       "      <th></th>\n",
       "      <th>df</th>\n",
       "      <th>sum_sq</th>\n",
       "      <th>mean_sq</th>\n",
       "      <th>F</th>\n",
       "      <th>PR(&gt;F)</th>\n",
       "    </tr>\n",
       "  </thead>\n",
       "  <tbody>\n",
       "    <tr>\n",
       "      <th>C(region)</th>\n",
       "      <td>3.0</td>\n",
       "      <td>1.300760e+09</td>\n",
       "      <td>4.335866e+08</td>\n",
       "      <td>2.9696</td>\n",
       "      <td>0.0309</td>\n",
       "    </tr>\n",
       "    <tr>\n",
       "      <th>Residual</th>\n",
       "      <td>1334.0</td>\n",
       "      <td>1.947735e+11</td>\n",
       "      <td>1.460071e+08</td>\n",
       "      <td>NaN</td>\n",
       "      <td>NaN</td>\n",
       "    </tr>\n",
       "  </tbody>\n",
       "</table>\n",
       "</div>"
      ],
      "text/plain": [
       "               df        sum_sq       mean_sq       F  PR(>F)\n",
       "C(region)     3.0  1.300760e+09  4.335866e+08  2.9696  0.0309\n",
       "Residual   1334.0  1.947735e+11  1.460071e+08     NaN     NaN"
      ]
     },
     "execution_count": 27,
     "metadata": {},
     "output_type": "execute_result"
    }
   ],
   "source": [
    "## Create a formula to explain charges using the category of \"region\"\n",
    "f = \"charges ~ C(region)\"\n",
    "\n",
    "## Make and fit an ols model \n",
    "model = smf.ols(f,data=df).fit()\n",
    "\n",
    "# Use statsmodels anova_lm function with the model \n",
    "results = sm.stats.anova_lm(model)\n",
    "results.round(4)"
   ]
  },
  {
   "cell_type": "markdown",
   "metadata": {
    "ExecuteTime": {
     "end_time": "2021-10-26T22:24:32.962085Z",
     "start_time": "2021-10-26T22:24:32.931155Z"
    }
   },
   "source": [
    "### Posthoc Multiple Comparison Test: Determine which pairs of groups were different"
   ]
  },
  {
   "cell_type": "code",
   "execution_count": 28,
   "metadata": {
    "ExecuteTime": {
     "end_time": "2021-10-27T18:49:41.084116Z",
     "start_time": "2021-10-27T18:49:41.043825Z"
    }
   },
   "outputs": [],
   "source": [
    "from statsmodels.stats.multicomp import pairwise_tukeyhsd\n",
    "## save the charges column as values and the region as labels\n",
    "values = df['charges']\n",
    "labels = df['region']"
   ]
  },
  {
   "cell_type": "code",
   "execution_count": 29,
   "metadata": {
    "ExecuteTime": {
     "end_time": "2021-10-27T18:49:41.245605Z",
     "start_time": "2021-10-27T18:49:41.086430Z"
    }
   },
   "outputs": [
    {
     "data": {
      "text/html": [
       "<table class=\"simpletable\">\n",
       "<caption>Multiple Comparison of Means - Tukey HSD, FWER=0.05</caption>\n",
       "<tr>\n",
       "   <th>group1</th>    <th>group2</th>    <th>meandiff</th>   <th>p-adj</th>    <th>lower</th>     <th>upper</th>   <th>reject</th>\n",
       "</tr>\n",
       "<tr>\n",
       "  <td>northeast</td> <td>northwest</td>  <td>-988.8091</td> <td>0.7002</td> <td>-3428.9473</td> <td>1451.329</td>   <td>False</td>\n",
       "</tr>\n",
       "<tr>\n",
       "  <td>northeast</td> <td>southeast</td>  <td>1329.0269</td> <td>0.4754</td> <td>-1044.9543</td> <td>3703.0081</td>  <td>False</td>\n",
       "</tr>\n",
       "<tr>\n",
       "  <td>northeast</td> <td>southwest</td> <td>-1059.4471</td> <td>0.6584</td> <td>-3499.5853</td> <td>1380.691</td>   <td>False</td>\n",
       "</tr>\n",
       "<tr>\n",
       "  <td>northwest</td> <td>southeast</td>  <td>2317.8361</td> <td>0.0583</td>   <td>-54.212</td>  <td>4689.8842</td>  <td>False</td>\n",
       "</tr>\n",
       "<tr>\n",
       "  <td>northwest</td> <td>southwest</td>   <td>-70.638</td>    <td>0.9</td>  <td>-2508.8955</td> <td>2367.6195</td>  <td>False</td>\n",
       "</tr>\n",
       "<tr>\n",
       "  <td>southeast</td> <td>southwest</td> <td>-2388.4741</td> <td>0.0477</td> <td>-4760.5221</td>  <td>-16.426</td>   <td>True</td> \n",
       "</tr>\n",
       "</table>"
      ],
      "text/plain": [
       "<class 'statsmodels.iolib.table.SimpleTable'>"
      ]
     },
     "execution_count": 29,
     "metadata": {},
     "output_type": "execute_result"
    }
   ],
   "source": [
    "## perform tukey's multiple comparison test and display the summary\n",
    "tukeys_results = pairwise_tukeyhsd(values,labels)\n",
    "tukeys_results.summary()"
   ]
  },
  {
   "cell_type": "markdown",
   "metadata": {},
   "source": [
    "### Conclusion/Interpretation"
   ]
  },
  {
   "cell_type": "code",
   "execution_count": 30,
   "metadata": {
    "ExecuteTime": {
     "end_time": "2021-10-27T18:49:41.509250Z",
     "start_time": "2021-10-27T18:49:41.247207Z"
    }
   },
   "outputs": [
    {
     "data": {
      "image/png": "[encoded data removed]",
      "text/plain": [
       "<Figure size 432x288 with 1 Axes>"
      ]
     },
     "metadata": {
      "needs_background": "light"
     },
     "output_type": "display_data"
    }
   ],
   "source": [
    "## Make a barplot using ci=68 (Standard Error of the Mean)\n",
    "sns.barplot(data=df, x='region',y='charges',ci=68);"
   ]
  },
  {
   "cell_type": "markdown",
   "metadata": {},
   "source": [
    ">-  Average insurance charges are different for different regions (p<.05). Specifically, charges are significantly higher in the southwest vs the southeast,"
   ]
  },
  {
   "cell_type": "markdown",
   "metadata": {},
   "source": [
    "## [Level Up]: Q4: Do insurance companies charge smokers vs non-smokers different amounts for men vs women?"
   ]
  },
  {
   "cell_type": "markdown",
   "metadata": {},
   "source": [
    "#### Formally State the Hypothesis\n",
    "- $H_1$ : Men and women are charged different amounts for being a smoker vs non-smoker.\n",
    "- $H_0$ : Men and women are charged the same regardless of whether they smoke or not."
   ]
  },
  {
   "cell_type": "markdown",
   "metadata": {},
   "source": [
    "#### Determine the Correct Statistical Test "
   ]
  },
  {
   "cell_type": "markdown",
   "metadata": {},
   "source": [
    "- Q1: What type of data are we comparing?\n",
    "    - A: Numeric (charges)\n",
    "    \n",
    "    \n",
    "- Q2: How many samples/groups are being compared?\n",
    "    - A: Two Sexes (M/F) x Two Smoking Groups (Smoker/Non-Smoker).\n",
    "    \n",
    "\n",
    "\n",
    "<details>\n",
    "    <summary style='font-weight:bold;'>> Therefore, the correct test to perform would be... (click to expand) </summary>\n",
    "   <ul>\n",
    "       <li style=\"font-weight:bold;\">A: Two-Way ANOVA!  https://www.statology.org/two-way-anova-python/</li>\n",
    "    </ul>\n",
    "</details>\n"
   ]
  },
  {
   "cell_type": "code",
   "execution_count": 31,
   "metadata": {
    "ExecuteTime": {
     "end_time": "2021-10-27T18:49:41.807446Z",
     "start_time": "2021-10-27T18:49:41.510892Z"
    }
   },
   "outputs": [
    {
     "data": {
      "image/png": "[encoded data removed]",
      "text/plain": [
       "<Figure size 432x288 with 1 Axes>"
      ]
     },
     "metadata": {
      "needs_background": "light"
     },
     "output_type": "display_data"
    }
   ],
   "source": [
    "## Visualzie the average charges for smokers vs non-smokers, separated by sex\n",
    "ax = sns.barplot(data=df, x='smoker',y='charges',hue='sex',ci=68)"
   ]
  },
  {
   "cell_type": "code",
   "execution_count": 32,
   "metadata": {
    "ExecuteTime": {
     "end_time": "2021-10-27T18:49:41.876268Z",
     "start_time": "2021-10-27T18:49:41.809765Z"
    }
   },
   "outputs": [
    {
     "data": {
      "text/html": [
       "<div>\n",
       "<style scoped>\n",
       "    .dataframe tbody tr th:only-of-type {\n",
       "        vertical-align: middle;\n",
       "    }\n",
       "\n",
       "    .dataframe tbody tr th {\n",
       "        vertical-align: top;\n",
       "    }\n",
       "\n",
       "    .dataframe thead th {\n",
       "        text-align: right;\n",
       "    }\n",
       "</style>\n",
       "<table border=\"1\" class=\"dataframe\">\n",
       "  <thead>\n",
       "    <tr style=\"text-align: right;\">\n",
       "      <th></th>\n",
       "      <th>sum_sq</th>\n",
       "      <th>df</th>\n",
       "      <th>F</th>\n",
       "      <th>PR(&gt;F)</th>\n",
       "    </tr>\n",
       "  </thead>\n",
       "  <tbody>\n",
       "    <tr>\n",
       "      <th>C(smoker)</th>\n",
       "      <td>1.208777e+11</td>\n",
       "      <td>1.0</td>\n",
       "      <td>2164.527244</td>\n",
       "      <td>1.190490e-281</td>\n",
       "    </tr>\n",
       "    <tr>\n",
       "      <th>C(sex)</th>\n",
       "      <td>1.421312e+06</td>\n",
       "      <td>1.0</td>\n",
       "      <td>0.025451</td>\n",
       "      <td>8.732723e-01</td>\n",
       "    </tr>\n",
       "    <tr>\n",
       "      <th>Residual</th>\n",
       "      <td>7.455290e+10</td>\n",
       "      <td>1335.0</td>\n",
       "      <td>NaN</td>\n",
       "      <td>NaN</td>\n",
       "    </tr>\n",
       "  </tbody>\n",
       "</table>\n",
       "</div>"
      ],
      "text/plain": [
       "                 sum_sq      df            F         PR(>F)\n",
       "C(smoker)  1.208777e+11     1.0  2164.527244  1.190490e-281\n",
       "C(sex)     1.421312e+06     1.0     0.025451   8.732723e-01\n",
       "Residual   7.455290e+10  1335.0          NaN            NaN"
      ]
     },
     "execution_count": 32,
     "metadata": {},
     "output_type": "execute_result"
    }
   ],
   "source": [
    "## Make the formula to explain charges with the categories of smoker and sex\n",
    "f = \"charges ~ C(smoker)+C(sex)\"\n",
    "model = smf.ols(f,data=df).fit()\n",
    "\n",
    "## Calculate the two-way anova using your model\n",
    "results = sm.stats.anova_lm(model,typ=2)\n",
    "results"
   ]
  },
  {
   "cell_type": "code",
   "execution_count": 33,
   "metadata": {
    "ExecuteTime": {
     "end_time": "2021-10-27T18:49:41.920989Z",
     "start_time": "2021-10-27T18:49:41.878069Z"
    }
   },
   "outputs": [
    {
     "data": {
      "text/plain": [
       "0.0"
      ]
     },
     "execution_count": 33,
     "metadata": {},
     "output_type": "execute_result"
    }
   ],
   "source": [
    "## interpret the p-value for smokers\n",
    "p_smoker = results.loc['C(smoker)', \"PR(>F)\"]\n",
    "round(p_smoker,6)"
   ]
  },
  {
   "cell_type": "code",
   "execution_count": 34,
   "metadata": {
    "ExecuteTime": {
     "end_time": "2021-10-27T18:49:41.965783Z",
     "start_time": "2021-10-27T18:49:41.923749Z"
    }
   },
   "outputs": [
    {
     "data": {
      "text/plain": [
       "True"
      ]
     },
     "execution_count": 34,
     "metadata": {},
     "output_type": "execute_result"
    }
   ],
   "source": [
    "## is the p-value for smoker significant?\n",
    "p_smoker<.05"
   ]
  },
  {
   "cell_type": "code",
   "execution_count": 35,
   "metadata": {
    "ExecuteTime": {
     "end_time": "2021-10-27T18:49:42.011740Z",
     "start_time": "2021-10-27T18:49:41.967801Z"
    }
   },
   "outputs": [
    {
     "data": {
      "text/plain": [
       "True"
      ]
     },
     "execution_count": 35,
     "metadata": {},
     "output_type": "execute_result"
    }
   ],
   "source": [
    "##HOW significant?\n",
    "p_smoker<.00001"
   ]
  },
  {
   "cell_type": "code",
   "execution_count": 36,
   "metadata": {
    "ExecuteTime": {
     "end_time": "2021-10-27T18:49:42.057573Z",
     "start_time": "2021-10-27T18:49:42.013930Z"
    }
   },
   "outputs": [
    {
     "data": {
      "text/plain": [
       "0.873272"
      ]
     },
     "execution_count": 36,
     "metadata": {},
     "output_type": "execute_result"
    }
   ],
   "source": [
    "## interpret the p-value for sex\n",
    "p_sex = results.loc['C(sex)', \"PR(>F)\"]\n",
    "round(p_sex,6)"
   ]
  },
  {
   "cell_type": "code",
   "execution_count": 37,
   "metadata": {
    "ExecuteTime": {
     "end_time": "2021-10-27T18:49:42.101098Z",
     "start_time": "2021-10-27T18:49:42.060019Z"
    }
   },
   "outputs": [
    {
     "data": {
      "text/plain": [
       "False"
      ]
     },
     "execution_count": 37,
     "metadata": {},
     "output_type": "execute_result"
    }
   ],
   "source": [
    "## is the p-value for sex significant?\n",
    "p_sex<.05"
   ]
  },
  {
   "cell_type": "markdown",
   "metadata": {},
   "source": [
    "### Conclusion"
   ]
  },
  {
   "cell_type": "code",
   "execution_count": 38,
   "metadata": {
    "ExecuteTime": {
     "end_time": "2021-10-27T18:49:42.389130Z",
     "start_time": "2021-10-27T18:49:42.103509Z"
    }
   },
   "outputs": [
    {
     "data": {
      "image/png": "[encoded data removed]",
      "text/plain": [
       "<Figure size 432x288 with 1 Axes>"
      ]
     },
     "metadata": {
      "needs_background": "light"
     },
     "output_type": "display_data"
    }
   ],
   "source": [
    "## Visualzie the average charges for males vs females, separated by smokers\n",
    "ax = sns.barplot(data=df, x='sex',y='charges',hue='smoker',ci=68)"
   ]
  },
  {
   "cell_type": "markdown",
   "metadata": {},
   "source": [
    ">- There was no significant difference in insurance charges across sex (p=.87), but there were significantly higher charges for smokers, in general (p<.00001)"
   ]
  },
  {
   "cell_type": "markdown",
   "metadata": {},
   "source": [
    "# Conclusion/Recap"
   ]
  },
  {
   "cell_type": "markdown",
   "metadata": {},
   "source": [
    "- Today we walked through testing several hypothesis that required different statistical tests. \n",
    "- We walked through setting our hypothesis and null hypothesis.\n",
    "- We then selected the right test based upon the type of data we were using and how many groups we were comparing. \n",
    "\n",
    "- We performed the chosen test, interpreted the p-value, and performed posthoc tests as needed.\n",
    "\n",
    "\n",
    "- We learned that there are more advanced statistical tests than what is included in the curriculum.\n"
   ]
  },
  {
   "cell_type": "markdown",
   "metadata": {},
   "source": [
    "# APPENDIX"
   ]
  },
  {
   "cell_type": "markdown",
   "metadata": {},
   "source": [
    "## Your Turn! Think of another Hypothesis to test."
   ]
  },
  {
   "cell_type": "markdown",
   "metadata": {},
   "source": [
    "- example: Is our sample's BMI representative of the the national average BMI? (See the pdf in the data folder for the stats)"
   ]
  },
  {
   "cell_type": "markdown",
   "metadata": {},
   "source": [
    "#### Formally State the Hypothesis\n",
    "- $H_1$ :\n",
    "- $H_0$ : "
   ]
  },
  {
   "cell_type": "markdown",
   "metadata": {},
   "source": [
    "#### Determine the Correct Statistical Test "
   ]
  },
  {
   "cell_type": "markdown",
   "metadata": {},
   "source": [
    "- Q1: What type of data are we comparing?\n",
    "    - A: |\n",
    "    \n",
    "    \n",
    "- Q2: How many samples/groups are being compared?\n",
    "    - A: \n",
    "    \n",
    "    \n",
    "- Therefore, the correct test to perform would be:\n",
    "    - A:"
   ]
  },
  {
   "cell_type": "code",
   "execution_count": null,
   "metadata": {},
   "outputs": [],
   "source": []
  }
 ],
 "metadata": {
  "kernelspec": {
   "display_name": "Python (learn-env)",
   "language": "python",
   "name": "learn-env"
  },
  "language_info": {
   "codemirror_mode": {
    "name": "ipython",
    "version": 3
   },
   "file_extension": ".py",
   "mimetype": "text/x-python",
   "name": "python",
   "nbconvert_exporter": "python",
   "pygments_lexer": "ipython3",
   "version": "3.8.5"
  },
  "toc": {
   "base_numbering": 1,
   "nav_menu": {},
   "number_sections": true,
   "sideBar": true,
   "skip_h1_title": false,
   "title_cell": "Table of Contents",
   "title_sidebar": "Contents",
   "toc_cell": false,
   "toc_position": {
    "height": "calc(100% - 180px)",
    "left": "10px",
    "top": "150px",
    "width": "256px"
   },
   "toc_section_display": true,
   "toc_window_display": true
  }
 },
 "nbformat": 4,
 "nbformat_minor": 4
}
